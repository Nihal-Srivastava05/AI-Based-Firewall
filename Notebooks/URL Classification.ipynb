{
 "cells": [
  {
   "cell_type": "markdown",
   "id": "e5661f99",
   "metadata": {},
   "source": [
    "# Malicious URL Classification"
   ]
  },
  {
   "cell_type": "code",
   "execution_count": 1,
   "id": "6921522e",
   "metadata": {},
   "outputs": [],
   "source": [
    "import pandas as pd\n",
    "import numpy as np\n",
    "import matplotlib.pyplot as plt\n",
    "import seaborn as sns"
   ]
  },
  {
   "cell_type": "code",
   "execution_count": 2,
   "id": "78a3d9b5",
   "metadata": {},
   "outputs": [],
   "source": [
    "import warnings"
   ]
  },
  {
   "cell_type": "code",
   "execution_count": 3,
   "id": "14fdaa28",
   "metadata": {},
   "outputs": [
    {
     "data": {
      "text/html": [
       "<div>\n",
       "<style scoped>\n",
       "    .dataframe tbody tr th:only-of-type {\n",
       "        vertical-align: middle;\n",
       "    }\n",
       "\n",
       "    .dataframe tbody tr th {\n",
       "        vertical-align: top;\n",
       "    }\n",
       "\n",
       "    .dataframe thead th {\n",
       "        text-align: right;\n",
       "    }\n",
       "</style>\n",
       "<table border=\"1\" class=\"dataframe\">\n",
       "  <thead>\n",
       "    <tr style=\"text-align: right;\">\n",
       "      <th></th>\n",
       "      <th>url</th>\n",
       "      <th>type</th>\n",
       "    </tr>\n",
       "  </thead>\n",
       "  <tbody>\n",
       "    <tr>\n",
       "      <th>0</th>\n",
       "      <td>br-icloud.com.br</td>\n",
       "      <td>phishing</td>\n",
       "    </tr>\n",
       "    <tr>\n",
       "      <th>1</th>\n",
       "      <td>mp3raid.com/music/krizz_kaliko.html</td>\n",
       "      <td>benign</td>\n",
       "    </tr>\n",
       "    <tr>\n",
       "      <th>2</th>\n",
       "      <td>bopsecrets.org/rexroth/cr/1.htm</td>\n",
       "      <td>benign</td>\n",
       "    </tr>\n",
       "    <tr>\n",
       "      <th>3</th>\n",
       "      <td>http://www.garage-pirenne.be/index.php?option=...</td>\n",
       "      <td>defacement</td>\n",
       "    </tr>\n",
       "    <tr>\n",
       "      <th>4</th>\n",
       "      <td>http://adventure-nicaragua.net/index.php?optio...</td>\n",
       "      <td>defacement</td>\n",
       "    </tr>\n",
       "  </tbody>\n",
       "</table>\n",
       "</div>"
      ],
      "text/plain": [
       "                                                 url        type\n",
       "0                                   br-icloud.com.br    phishing\n",
       "1                mp3raid.com/music/krizz_kaliko.html      benign\n",
       "2                    bopsecrets.org/rexroth/cr/1.htm      benign\n",
       "3  http://www.garage-pirenne.be/index.php?option=...  defacement\n",
       "4  http://adventure-nicaragua.net/index.php?optio...  defacement"
      ]
     },
     "execution_count": 3,
     "metadata": {},
     "output_type": "execute_result"
    }
   ],
   "source": [
    "df = pd.read_csv('../Datasets/malicious_phish.csv')\n",
    "df.head()"
   ]
  },
  {
   "cell_type": "code",
   "execution_count": 4,
   "id": "80b1dc50",
   "metadata": {},
   "outputs": [
    {
     "data": {
      "text/plain": [
       "(651191, 2)"
      ]
     },
     "execution_count": 4,
     "metadata": {},
     "output_type": "execute_result"
    }
   ],
   "source": [
    "df.shape"
   ]
  },
  {
   "cell_type": "code",
   "execution_count": 5,
   "id": "030033f9",
   "metadata": {},
   "outputs": [
    {
     "data": {
      "text/plain": [
       "benign        428103\n",
       "defacement     96457\n",
       "phishing       94111\n",
       "malware        32520\n",
       "Name: type, dtype: int64"
      ]
     },
     "execution_count": 5,
     "metadata": {},
     "output_type": "execute_result"
    }
   ],
   "source": [
    "df['type'].value_counts()"
   ]
  },
  {
   "cell_type": "code",
   "execution_count": 6,
   "id": "f026c288",
   "metadata": {},
   "outputs": [
    {
     "data": {
      "image/png": "[encoded data removed]",
      "text/plain": [
       "<Figure size 576x432 with 1 Axes>"
      ]
     },
     "metadata": {
      "needs_background": "light"
     },
     "output_type": "display_data"
    }
   ],
   "source": [
    "plt.figure(figsize=(8, 6))\n",
    "sns.countplot(data=df, x='type');"
   ]
  },
  {
   "cell_type": "markdown",
   "id": "86ece672",
   "metadata": {},
   "source": [
    "## Feature Extraction"
   ]
  },
  {
   "cell_type": "code",
   "execution_count": 7,
   "id": "242121e3",
   "metadata": {},
   "outputs": [],
   "source": [
    "import whois\n",
    "from datetime import datetime, timezone\n",
    "import math\n",
    "from pyquery import PyQuery\n",
    "from requests import get\n",
    "from interruptingcow import timeout\n",
    "from tqdm import tqdm"
   ]
  },
  {
   "cell_type": "code",
   "execution_count": 8,
   "id": "a43284da",
   "metadata": {},
   "outputs": [
    {
     "data": {
      "text/plain": [
       "'http://www.garage-pirenne.be/index.php?option=com_content&view=article&id=70&vsig70_0=15'"
      ]
     },
     "execution_count": 8,
     "metadata": {},
     "output_type": "execute_result"
    }
   ],
   "source": [
    "df.iloc[3].url"
   ]
  },
  {
   "cell_type": "code",
   "execution_count": 9,
   "id": "42630ec7",
   "metadata": {},
   "outputs": [],
   "source": [
    "example_url = 'http://www.garage-pirenne.be/index.php?option=com_content&view=article&id=70&vsig70_0=15'"
   ]
  },
  {
   "cell_type": "code",
   "execution_count": 10,
   "id": "41ce8083",
   "metadata": {},
   "outputs": [
    {
     "data": {
      "text/plain": [
       "'www.garage-pirenne.be'"
      ]
     },
     "execution_count": 10,
     "metadata": {},
     "output_type": "execute_result"
    }
   ],
   "source": [
    "domain = example_url.split('//')[-1].split('/')[0]\n",
    "domain"
   ]
  },
  {
   "cell_type": "markdown",
   "id": "83f648ad",
   "metadata": {},
   "source": [
    "Testing Whois Library"
   ]
  },
  {
   "cell_type": "code",
   "execution_count": 14,
   "id": "4fbcd4ec",
   "metadata": {},
   "outputs": [
    {
     "data": {
      "text/plain": [
       "{'domain_name': ['GOOGLE.COM', 'google.com'],\n",
       " 'registrar': 'MarkMonitor, Inc.',\n",
       " 'whois_server': 'whois.markmonitor.com',\n",
       " 'referral_url': None,\n",
       " 'updated_date': datetime.datetime(2019, 9, 9, 15, 39, 4),\n",
       " 'creation_date': [datetime.datetime(1997, 9, 15, 4, 0),\n",
       "  datetime.datetime(1997, 9, 15, 7, 0)],\n",
       " 'expiration_date': [datetime.datetime(2028, 9, 14, 4, 0),\n",
       "  datetime.datetime(2028, 9, 13, 7, 0)],\n",
       " 'name_servers': ['NS1.GOOGLE.COM',\n",
       "  'NS2.GOOGLE.COM',\n",
       "  'NS3.GOOGLE.COM',\n",
       "  'NS4.GOOGLE.COM',\n",
       "  'ns3.google.com',\n",
       "  'ns1.google.com',\n",
       "  'ns4.google.com',\n",
       "  'ns2.google.com'],\n",
       " 'status': ['clientDeleteProhibited https://icann.org/epp#clientDeleteProhibited',\n",
       "  'clientTransferProhibited https://icann.org/epp#clientTransferProhibited',\n",
       "  'clientUpdateProhibited https://icann.org/epp#clientUpdateProhibited',\n",
       "  'serverDeleteProhibited https://icann.org/epp#serverDeleteProhibited',\n",
       "  'serverTransferProhibited https://icann.org/epp#serverTransferProhibited',\n",
       "  'serverUpdateProhibited https://icann.org/epp#serverUpdateProhibited',\n",
       "  'clientUpdateProhibited (https://www.icann.org/epp#clientUpdateProhibited)',\n",
       "  'clientTransferProhibited (https://www.icann.org/epp#clientTransferProhibited)',\n",
       "  'clientDeleteProhibited (https://www.icann.org/epp#clientDeleteProhibited)',\n",
       "  'serverUpdateProhibited (https://www.icann.org/epp#serverUpdateProhibited)',\n",
       "  'serverTransferProhibited (https://www.icann.org/epp#serverTransferProhibited)',\n",
       "  'serverDeleteProhibited (https://www.icann.org/epp#serverDeleteProhibited)'],\n",
       " 'emails': ['abusecomplaints@markmonitor.com', 'whoisrequest@markmonitor.com'],\n",
       " 'dnssec': 'unsigned',\n",
       " 'name': None,\n",
       " 'org': 'Google LLC',\n",
       " 'address': None,\n",
       " 'city': None,\n",
       " 'state': 'CA',\n",
       " 'registrant_postal_code': None,\n",
       " 'country': 'US'}"
      ]
     },
     "execution_count": 14,
     "metadata": {},
     "output_type": "execute_result"
    }
   ],
   "source": [
    "whois.whois(\"google.com\")"
   ]
  },
  {
   "cell_type": "code",
   "execution_count": 15,
   "id": "a930de2a",
   "metadata": {},
   "outputs": [],
   "source": [
    "response = get(\"https://google.com\")\n",
    "pq = PyQuery(response.text)"
   ]
  },
  {
   "cell_type": "code",
   "execution_count": 20,
   "id": "bc7d5d5b",
   "metadata": {},
   "outputs": [],
   "source": [
    "class UrlFeaturizer(object):\n",
    "    def __init__(self, url):\n",
    "        self.url = url\n",
    "        self.domain = url.split('//')[-1].split('/')[0]\n",
    "        self.today = datetime.now().replace(tzinfo=None)\n",
    "\n",
    "        try:\n",
    "            self.whois = whois.query(self.domain).__dict__\n",
    "        except:\n",
    "            self.whois = None\n",
    "\n",
    "        try:\n",
    "            self.response = get(self.url)\n",
    "            self.pq = PyQuery(self.response.text)\n",
    "        except:\n",
    "            self.response = None\n",
    "            self.pq = None\n",
    "\n",
    "    def entropy(self):\n",
    "        string = self.url.strip()\n",
    "        prob = [float(string.count(c)) / len(string) for c in dict.fromkeys(list(string))]\n",
    "        entropy = sum([(p * math.log(p) / math.log(2.0)) for p in prob])\n",
    "        return entropy\n",
    "\n",
    "    def ip(self):\n",
    "        string = self.url\n",
    "        flag = False\n",
    "        if (\".\" in string):\n",
    "            elements_array = string.strip().split(\".\")\n",
    "            if(len(elements_array) == 4):\n",
    "                for i in elements_array:\n",
    "                    if (i.isnumeric() and int(i)>=0 and int(i)<=255):\n",
    "                        flag=True\n",
    "                    else:\n",
    "                        flag=False\n",
    "                        break\n",
    "        if flag:\n",
    "            return 1 \n",
    "        else:\n",
    "            return 0\n",
    "\n",
    "    def numDigits(self):\n",
    "        digits = [i for i in self.url if i.isdigit()]\n",
    "        return len(digits)\n",
    "\n",
    "    def urlLength(self):\n",
    "        return len(self.url)\n",
    "\n",
    "    def numParameters(self):\n",
    "        params = self.url.split('&')\n",
    "        return len(params) - 1\n",
    "\n",
    "    def numFragments(self):\n",
    "        fragments = self.url.split('#')\n",
    "        return len(fragments) - 1\n",
    "\n",
    "    def numSubDomains(self):\n",
    "        subdomains = self.url.split('http')[-1].split('//')[-1].split('/')\n",
    "        return len(subdomains)-1\n",
    "\n",
    "    def domainExtension(self):\n",
    "        ext = self.url.split('.')[-1].split('/')[0]\n",
    "        return ext\n",
    "\n",
    "    ## URL domain features\n",
    "    def hasHttp(self):\n",
    "        return 'http:' in self.url\n",
    "\n",
    "    def hasHttps(self):\n",
    "        return 'https:' in self.url\n",
    "\n",
    "    def daysSinceRegistration(self):\n",
    "        if self.whois and self.whois['creation_date']:\n",
    "            diff = self.today - self.whois['creation_date'].replace(tzinfo=None)\n",
    "            diff = str(diff).split(' days')[0]\n",
    "            return diff\n",
    "        else:\n",
    "            return 0\n",
    "\n",
    "    def daysSinceExpiration(self):\n",
    "        if self.whois and self.whois['expiration_date']:\n",
    "            diff = self.whois['expiration_date'].replace(tzinfo=None) - self.today\n",
    "            diff = str(diff).split(' days')[0]\n",
    "            return diff\n",
    "        else:\n",
    "            return 0\n",
    "    \n",
    "     ## URL Page Features\n",
    "    def bodyLength(self):\n",
    "        if self.pq is not None:\n",
    "            return len(self.pq('html').text()) if self.urlIsLive else 0\n",
    "        else:\n",
    "            return 0\n",
    "\n",
    "    def numTitles(self):\n",
    "        if self.pq is not None:\n",
    "            titles = ['h{}'.format(i) for i in range(7)]\n",
    "            titles = [self.pq(i).items() for i in titles]\n",
    "            return len([item for s in titles for item in s])\n",
    "        else:\n",
    "            return 0\n",
    "\n",
    "    def numImages(self):\n",
    "        if self.pq is not None:\n",
    "            return len([i for i in self.pq('img').items()])\n",
    "        else:\n",
    "            return 0\n",
    "\n",
    "    def numLinks(self):\n",
    "        if self.pq is not None:\n",
    "            return len([i for i in self.pq('a').items()])\n",
    "        else:\n",
    "            return 0\n",
    "\n",
    "    def scriptLength(self):\n",
    "        if self.pq is not None:\n",
    "            return len(self.pq('script').text())\n",
    "        else:\n",
    "            return 0\n",
    "\n",
    "    def specialCharacters(self):\n",
    "        if self.pq is not None:\n",
    "            bodyText = self.pq('html').text()\n",
    "            schars = [i for i in bodyText if not i.isdigit() and not i.isalpha()]\n",
    "            return len(schars)\n",
    "        else:\n",
    "            return 0\n",
    "\n",
    "    def scriptToSpecialCharsRatio(self):\n",
    "        v = self.specialCharacters()\n",
    "        if self.pq is not None and v!=0:\n",
    "            sscr = self.scriptLength()/v\n",
    "        else:\n",
    "            sscr = 0\n",
    "        return sscr\n",
    "\n",
    "    def scriptTobodyRatio(self):\n",
    "        v = self.bodyLength()\n",
    "        if self.pq is not None and v!=0:\n",
    "            sbr = self.scriptLength()/v\n",
    "        else:\n",
    "            sbr = 0\n",
    "        return sbr\n",
    "\n",
    "    def bodyToSpecialCharRatio(self):\n",
    "        v = self.bodyLength()\n",
    "        if self.pq is not None and v!=0:\n",
    "            bscr = self.specialCharacters()/v\n",
    "        else:\n",
    "            bscr = 0\n",
    "        return bscr\n",
    "\n",
    "    def urlIsLive(self):\n",
    "        return self.response == 200\n",
    "\n",
    "    def run(self):\n",
    "        data = {}\n",
    "        data['entropy'] = self.entropy()\n",
    "        data['numDigits'] = self.numDigits()\n",
    "        data['urlLength'] = self.urlLength()\n",
    "        data['numParams'] = self.numParameters()\n",
    "        data['hasHttp'] = self.hasHttp()\n",
    "        data['hasHttps'] = self.hasHttps()\n",
    "        data['urlIsLive'] = self.urlIsLive()\n",
    "        data['bodyLength'] = self.bodyLength()\n",
    "        data['numTitles'] = self.numTitles()\n",
    "        data['numImages'] = self.numImages()\n",
    "        data['numLinks'] = self.numLinks()\n",
    "        data['scriptLength'] = self.scriptLength()\n",
    "        data['specialChars'] = self.specialCharacters()\n",
    "        data['ext'] = self.domainExtension()\n",
    "        data['dsr'] = self.daysSinceRegistration()\n",
    "        data['dse'] = self.daysSinceExpiration()\n",
    "        data['sscr'] = self.scriptToSpecialCharsRatio()\n",
    "        data['sbr'] = self.scriptTobodyRatio()\n",
    "        data['bscr'] = self.bodyToSpecialCharRatio()\n",
    "        data['num_%20'] = self.url.count(\"%20\")\n",
    "        data['num_@'] = self.url.count(\"@\")\n",
    "        data['has_ip'] = self.ip()\n",
    "    \n",
    "        return data"
   ]
  },
  {
   "cell_type": "code",
   "execution_count": 21,
   "id": "5c5ddcb5",
   "metadata": {},
   "outputs": [
    {
     "data": {
      "text/plain": [
       "{'entropy': -3.57243125132212,\n",
       " 'numDigits': 0,\n",
       " 'urlLength': 18,\n",
       " 'numParams': 0,\n",
       " 'hasHttp': False,\n",
       " 'hasHttps': True,\n",
       " 'urlIsLive': False,\n",
       " 'bodyLength': 10658,\n",
       " 'numTitles': 0,\n",
       " 'numImages': 1,\n",
       " 'numLinks': 27,\n",
       " 'scriptLength': 8547,\n",
       " 'specialChars': 3084,\n",
       " 'ext': 'com',\n",
       " 'dsr': 0,\n",
       " 'dse': 0,\n",
       " 'sscr': 2.7714007782101167,\n",
       " 'sbr': 0.8019328204165885,\n",
       " 'bscr': 0.28936010508538185,\n",
       " 'num_%20': 0,\n",
       " 'num_@': 0,\n",
       " 'has_ip': 0}"
      ]
     },
     "execution_count": 21,
     "metadata": {},
     "output_type": "execute_result"
    }
   ],
   "source": [
    "UrlFeaturizer('https://google.com').run()"
   ]
  },
  {
   "cell_type": "code",
   "execution_count": 22,
   "id": "6b01a9e2",
   "metadata": {},
   "outputs": [],
   "source": [
    "warnings.simplefilter(action='ignore', category=FutureWarning)"
   ]
  },
  {
   "cell_type": "code",
   "execution_count": null,
   "id": "bf165891",
   "metadata": {},
   "outputs": [
    {
     "name": "stderr",
     "output_type": "stream",
     "text": [
      "438it [04:40,  1.82it/s]"
     ]
    }
   ],
   "source": [
    "feature_df = pd.DataFrame()\n",
    "for row in tqdm(df[:1000].iterrows()):\n",
    "    try:\n",
    "        temp = UrlFeaturizer(row[1].url).run()\n",
    "        temp['target'] = row[1].type\n",
    "        feature_df = feature_df.append(temp, ignore_index=True)\n",
    "    except:\n",
    "        print(row[0])"
   ]
  },
  {
   "cell_type": "code",
   "execution_count": null,
   "id": "ade29e91",
   "metadata": {},
   "outputs": [],
   "source": [
    "feature_df"
   ]
  },
  {
   "cell_type": "code",
   "execution_count": null,
   "id": "0e079d17",
   "metadata": {},
   "outputs": [],
   "source": []
  },
  {
   "cell_type": "markdown",
   "id": "726b1169",
   "metadata": {},
   "source": [
    "### References:\n",
    "https://medium.com/nerd-for-tech/url-feature-engineering-and-classification-66c0512fb34d"
   ]
  }
 ],
 "metadata": {
  "kernelspec": {
   "display_name": "Python 3 (ipykernel)",
   "language": "python",
   "name": "python3"
  },
  "language_info": {
   "codemirror_mode": {
    "name": "ipython",
    "version": 3
   },
   "file_extension": ".py",
   "mimetype": "text/x-python",
   "name": "python",
   "nbconvert_exporter": "python",
   "pygments_lexer": "ipython3",
   "version": "3.9.12"
  }
 },
 "nbformat": 4,
 "nbformat_minor": 5
}
