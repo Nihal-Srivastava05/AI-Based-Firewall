{
 "cells": [
  {
   "cell_type": "markdown",
   "id": "e5661f99",
   "metadata": {},
   "source": [
    "# Malicious URL Classification"
   ]
  },
  {
   "cell_type": "code",
   "execution_count": 1,
   "id": "6921522e",
   "metadata": {},
   "outputs": [],
   "source": [
    "import pandas as pd\n",
    "import numpy as np\n",
    "import matplotlib.pyplot as plt\n",
    "import seaborn as sns"
   ]
  },
  {
   "cell_type": "code",
   "execution_count": 2,
   "id": "78a3d9b5",
   "metadata": {},
   "outputs": [],
   "source": [
    "import warnings"
   ]
  },
  {
   "cell_type": "code",
   "execution_count": 3,
   "id": "14fdaa28",
   "metadata": {},
   "outputs": [
    {
     "data": {
      "text/html": [
       "<div>\n",
       "<style scoped>\n",
       "    .dataframe tbody tr th:only-of-type {\n",
       "        vertical-align: middle;\n",
       "    }\n",
       "\n",
       "    .dataframe tbody tr th {\n",
       "        vertical-align: top;\n",
       "    }\n",
       "\n",
       "    .dataframe thead th {\n",
       "        text-align: right;\n",
       "    }\n",
       "</style>\n",
       "<table border=\"1\" class=\"dataframe\">\n",
       "  <thead>\n",
       "    <tr style=\"text-align: right;\">\n",
       "      <th></th>\n",
       "      <th>url</th>\n",
       "      <th>type</th>\n",
       "    </tr>\n",
       "  </thead>\n",
       "  <tbody>\n",
       "    <tr>\n",
       "      <th>0</th>\n",
       "      <td>br-icloud.com.br</td>\n",
       "      <td>phishing</td>\n",
       "    </tr>\n",
       "    <tr>\n",
       "      <th>1</th>\n",
       "      <td>mp3raid.com/music/krizz_kaliko.html</td>\n",
       "      <td>benign</td>\n",
       "    </tr>\n",
       "    <tr>\n",
       "      <th>2</th>\n",
       "      <td>bopsecrets.org/rexroth/cr/1.htm</td>\n",
       "      <td>benign</td>\n",
       "    </tr>\n",
       "    <tr>\n",
       "      <th>3</th>\n",
       "      <td>http://www.garage-pirenne.be/index.php?option=...</td>\n",
       "      <td>defacement</td>\n",
       "    </tr>\n",
       "    <tr>\n",
       "      <th>4</th>\n",
       "      <td>http://adventure-nicaragua.net/index.php?optio...</td>\n",
       "      <td>defacement</td>\n",
       "    </tr>\n",
       "  </tbody>\n",
       "</table>\n",
       "</div>"
      ],
      "text/plain": [
       "                                                 url        type\n",
       "0                                   br-icloud.com.br    phishing\n",
       "1                mp3raid.com/music/krizz_kaliko.html      benign\n",
       "2                    bopsecrets.org/rexroth/cr/1.htm      benign\n",
       "3  http://www.garage-pirenne.be/index.php?option=...  defacement\n",
       "4  http://adventure-nicaragua.net/index.php?optio...  defacement"
      ]
     },
     "execution_count": 3,
     "metadata": {},
     "output_type": "execute_result"
    }
   ],
   "source": [
    "df = pd.read_csv('../Datasets/malicious_phish.csv')\n",
    "df.head()"
   ]
  },
  {
   "cell_type": "code",
   "execution_count": 4,
   "id": "80b1dc50",
   "metadata": {},
   "outputs": [
    {
     "data": {
      "text/plain": [
       "(651191, 2)"
      ]
     },
     "execution_count": 4,
     "metadata": {},
     "output_type": "execute_result"
    }
   ],
   "source": [
    "df.shape"
   ]
  },
  {
   "cell_type": "code",
   "execution_count": 5,
   "id": "030033f9",
   "metadata": {},
   "outputs": [
    {
     "data": {
      "text/plain": [
       "benign        428103\n",
       "defacement     96457\n",
       "phishing       94111\n",
       "malware        32520\n",
       "Name: type, dtype: int64"
      ]
     },
     "execution_count": 5,
     "metadata": {},
     "output_type": "execute_result"
    }
   ],
   "source": [
    "df['type'].value_counts()"
   ]
  },
  {
   "cell_type": "code",
   "execution_count": 6,
   "id": "f026c288",
   "metadata": {},
   "outputs": [
    {
     "data": {
      "image/png": "[encoded data removed]",
      "text/plain": [
       "<Figure size 576x432 with 1 Axes>"
      ]
     },
     "metadata": {
      "needs_background": "light"
     },
     "output_type": "display_data"
    }
   ],
   "source": [
    "plt.figure(figsize=(8, 6))\n",
    "sns.countplot(data=df, x='type');"
   ]
  },
  {
   "cell_type": "markdown",
   "id": "86ece672",
   "metadata": {},
   "source": [
    "## Feature Extraction"
   ]
  },
  {
   "cell_type": "code",
   "execution_count": 3,
   "id": "242121e3",
   "metadata": {},
   "outputs": [],
   "source": [
    "import whois\n",
    "from datetime import datetime, timezone\n",
    "import math\n",
    "from pyquery import PyQuery\n",
    "from requests import get\n",
    "from interruptingcow import timeout\n",
    "from tqdm import tqdm"
   ]
  },
  {
   "cell_type": "code",
   "execution_count": 5,
   "id": "42630ec7",
   "metadata": {},
   "outputs": [],
   "source": [
    "example_url = 'http://www.garage-pirenne.be/index.php?option=com_content&view=article&id=70&vsig70_0=15'"
   ]
  },
  {
   "cell_type": "code",
   "execution_count": 6,
   "id": "41ce8083",
   "metadata": {},
   "outputs": [
    {
     "data": {
      "text/plain": [
       "'www.garage-pirenne.be'"
      ]
     },
     "execution_count": 6,
     "metadata": {},
     "output_type": "execute_result"
    }
   ],
   "source": [
    "domain = example_url.split('//')[-1].split('/')[0]\n",
    "domain"
   ]
  },
  {
   "cell_type": "markdown",
   "id": "83f648ad",
   "metadata": {},
   "source": [
    "Testing Whois Library"
   ]
  },
  {
   "cell_type": "code",
   "execution_count": 7,
   "id": "4fbcd4ec",
   "metadata": {},
   "outputs": [
    {
     "name": "stdout",
     "output_type": "stream",
     "text": [
      "Error trying to connect to socket: closing socket - timed out\n"
     ]
    },
    {
     "data": {
      "text/plain": [
       "{'domain_name': None,\n",
       " 'registrar': None,\n",
       " 'whois_server': None,\n",
       " 'referral_url': None,\n",
       " 'updated_date': None,\n",
       " 'creation_date': None,\n",
       " 'expiration_date': None,\n",
       " 'name_servers': None,\n",
       " 'status': None,\n",
       " 'emails': None,\n",
       " 'dnssec': None,\n",
       " 'name': None,\n",
       " 'org': None,\n",
       " 'address': None,\n",
       " 'city': None,\n",
       " 'state': None,\n",
       " 'registrant_postal_code': None,\n",
       " 'country': None}"
      ]
     },
     "execution_count": 7,
     "metadata": {},
     "output_type": "execute_result"
    }
   ],
   "source": [
    "whois.whois(\"google.com\")"
   ]
  },
  {
   "cell_type": "code",
   "execution_count": 12,
   "id": "a930de2a",
   "metadata": {},
   "outputs": [],
   "source": [
    "response = get(\"https://google.com\")\n",
    "pq = PyQuery(response.text)"
   ]
  },
  {
   "cell_type": "code",
   "execution_count": 8,
   "id": "bc7d5d5b",
   "metadata": {},
   "outputs": [],
   "source": [
    "class UrlFeaturizer(object):\n",
    "    def __init__(self, url):\n",
    "        self.url = url\n",
    "        self.domain = url.split('//')[-1].split('/')[0]\n",
    "        self.today = datetime.now().replace(tzinfo=None)\n",
    "\n",
    "        try:\n",
    "            self.whois = whois.query(self.domain).__dict__\n",
    "        except:\n",
    "            self.whois = None\n",
    "\n",
    "        try:\n",
    "            self.response = get(self.url)\n",
    "            self.pq = PyQuery(self.response.text)\n",
    "        except:\n",
    "            self.response = None\n",
    "            self.pq = None\n",
    "\n",
    "    def entropy(self):\n",
    "        string = self.url.strip()\n",
    "        prob = [float(string.count(c)) / len(string) for c in dict.fromkeys(list(string))]\n",
    "        entropy = sum([(p * math.log(p) / math.log(2.0)) for p in prob])\n",
    "        return entropy\n",
    "\n",
    "    def ip(self):\n",
    "        string = self.url\n",
    "        flag = False\n",
    "        if (\".\" in string):\n",
    "            elements_array = string.strip().split(\".\")\n",
    "            if(len(elements_array) == 4):\n",
    "                for i in elements_array:\n",
    "                    if (i.isnumeric() and int(i)>=0 and int(i)<=255):\n",
    "                        flag=True\n",
    "                    else:\n",
    "                        flag=False\n",
    "                        break\n",
    "        if flag:\n",
    "            return 1 \n",
    "        else:\n",
    "            return 0\n",
    "\n",
    "    def numDigits(self):\n",
    "        digits = [i for i in self.url if i.isdigit()]\n",
    "        return len(digits)\n",
    "\n",
    "    def urlLength(self):\n",
    "        return len(self.url)\n",
    "\n",
    "    def numParameters(self):\n",
    "        params = self.url.split('&')\n",
    "        return len(params) - 1\n",
    "\n",
    "    def numFragments(self):\n",
    "        fragments = self.url.split('#')\n",
    "        return len(fragments) - 1\n",
    "\n",
    "    def numSubDomains(self):\n",
    "        subdomains = self.url.split('http')[-1].split('//')[-1].split('/')\n",
    "        return len(subdomains)-1\n",
    "\n",
    "    def domainExtension(self):\n",
    "        ext = self.url.split('.')[-1].split('/')[0]\n",
    "        return ext\n",
    "\n",
    "    ## URL domain features\n",
    "    def hasHttp(self):\n",
    "        return 'http:' in self.url\n",
    "\n",
    "    def hasHttps(self):\n",
    "        return 'https:' in self.url\n",
    "\n",
    "    def daysSinceRegistration(self):\n",
    "        if self.whois and self.whois['creation_date']:\n",
    "            diff = self.today - self.whois['creation_date'].replace(tzinfo=None)\n",
    "            diff = str(diff).split(' days')[0]\n",
    "            return diff\n",
    "        else:\n",
    "            return 0\n",
    "\n",
    "    def daysSinceExpiration(self):\n",
    "        if self.whois and self.whois['expiration_date']:\n",
    "            diff = self.whois['expiration_date'].replace(tzinfo=None) - self.today\n",
    "            diff = str(diff).split(' days')[0]\n",
    "            return diff\n",
    "        else:\n",
    "            return 0\n",
    "    \n",
    "     ## URL Page Features\n",
    "    def bodyLength(self):\n",
    "        if self.pq is not None:\n",
    "            return len(self.pq('html').text()) if self.urlIsLive else 0\n",
    "        else:\n",
    "            return 0\n",
    "\n",
    "    def numTitles(self):\n",
    "        if self.pq is not None:\n",
    "            titles = ['h{}'.format(i) for i in range(7)]\n",
    "            titles = [self.pq(i).items() for i in titles]\n",
    "            return len([item for s in titles for item in s])\n",
    "        else:\n",
    "            return 0\n",
    "\n",
    "    def numImages(self):\n",
    "        if self.pq is not None:\n",
    "            return len([i for i in self.pq('img').items()])\n",
    "        else:\n",
    "            return 0\n",
    "\n",
    "    def numLinks(self):\n",
    "        if self.pq is not None:\n",
    "            return len([i for i in self.pq('a').items()])\n",
    "        else:\n",
    "            return 0\n",
    "\n",
    "    def scriptLength(self):\n",
    "        if self.pq is not None:\n",
    "            return len(self.pq('script').text())\n",
    "        else:\n",
    "            return 0\n",
    "\n",
    "    def specialCharacters(self):\n",
    "        if self.pq is not None:\n",
    "            bodyText = self.pq('html').text()\n",
    "            schars = [i for i in bodyText if not i.isdigit() and not i.isalpha()]\n",
    "            return len(schars)\n",
    "        else:\n",
    "            return 0\n",
    "\n",
    "    def scriptToSpecialCharsRatio(self):\n",
    "        v = self.specialCharacters()\n",
    "        if self.pq is not None and v!=0:\n",
    "            sscr = self.scriptLength()/v\n",
    "        else:\n",
    "            sscr = 0\n",
    "        return sscr\n",
    "\n",
    "    def scriptTobodyRatio(self):\n",
    "        v = self.bodyLength()\n",
    "        if self.pq is not None and v!=0:\n",
    "            sbr = self.scriptLength()/v\n",
    "        else:\n",
    "            sbr = 0\n",
    "        return sbr\n",
    "\n",
    "    def bodyToSpecialCharRatio(self):\n",
    "        v = self.bodyLength()\n",
    "        if self.pq is not None and v!=0:\n",
    "            bscr = self.specialCharacters()/v\n",
    "        else:\n",
    "            bscr = 0\n",
    "        return bscr\n",
    "\n",
    "    def urlIsLive(self):\n",
    "        return self.response == 200\n",
    "\n",
    "    def run(self):\n",
    "        data = {}\n",
    "        data['entropy'] = self.entropy()\n",
    "        data['numDigits'] = self.numDigits()\n",
    "        data['urlLength'] = self.urlLength()\n",
    "        data['numParams'] = self.numParameters()\n",
    "        data['hasHttp'] = self.hasHttp()\n",
    "        data['hasHttps'] = self.hasHttps()\n",
    "        data['urlIsLive'] = self.urlIsLive()\n",
    "        data['bodyLength'] = self.bodyLength()\n",
    "        data['numTitles'] = self.numTitles()\n",
    "        data['numImages'] = self.numImages()\n",
    "        data['numLinks'] = self.numLinks()\n",
    "        data['scriptLength'] = self.scriptLength()\n",
    "        data['specialChars'] = self.specialCharacters()\n",
    "        data['ext'] = self.domainExtension()\n",
    "        data['dsr'] = self.daysSinceRegistration()\n",
    "        data['dse'] = self.daysSinceExpiration()\n",
    "        data['sscr'] = self.scriptToSpecialCharsRatio()\n",
    "        data['sbr'] = self.scriptTobodyRatio()\n",
    "        data['bscr'] = self.bodyToSpecialCharRatio()\n",
    "        data['num_%20'] = self.url.count(\"%20\")\n",
    "        data['num_@'] = self.url.count(\"@\")\n",
    "        data['has_ip'] = self.ip()\n",
    "    \n",
    "        return data"
   ]
  },
  {
   "cell_type": "code",
   "execution_count": 9,
   "id": "5c5ddcb5",
   "metadata": {},
   "outputs": [
    {
     "data": {
      "text/plain": [
       "{'entropy': -3.57243125132212,\n",
       " 'numDigits': 0,\n",
       " 'urlLength': 18,\n",
       " 'numParams': 0,\n",
       " 'hasHttp': False,\n",
       " 'hasHttps': True,\n",
       " 'ext': 'com',\n",
       " 'num_%20': 0,\n",
       " 'num_@': 0,\n",
       " 'has_ip': 0}"
      ]
     },
     "execution_count": 9,
     "metadata": {},
     "output_type": "execute_result"
    }
   ],
   "source": [
    "UrlFeaturizer('https://google.com').run()"
   ]
  },
  {
   "cell_type": "code",
   "execution_count": 10,
   "id": "6b01a9e2",
   "metadata": {},
   "outputs": [],
   "source": [
    "warnings.simplefilter(action='ignore', category=FutureWarning)"
   ]
  },
  {
   "cell_type": "markdown",
   "id": "2d09c5d0",
   "metadata": {},
   "source": [
    "### Loading the data"
   ]
  },
  {
   "cell_type": "code",
   "execution_count": 8,
   "id": "cacf8ed6",
   "metadata": {},
   "outputs": [],
   "source": [
    "df1 = pd.read_csv('../Datasets/feature_extraction.csv')\n",
    "df2 = pd.read_csv('../Datasets/feature_extraction2.csv')\n",
    "df3 = pd.read_csv('../Datasets/feature_extraction3.csv')"
   ]
  },
  {
   "cell_type": "code",
   "execution_count": 11,
   "id": "4d634ece",
   "metadata": {},
   "outputs": [
    {
     "data": {
      "text/plain": [
       "((280000, 11), (350000, 11), (21189, 11))"
      ]
     },
     "execution_count": 11,
     "metadata": {},
     "output_type": "execute_result"
    }
   ],
   "source": [
    "df1.shape, df2.shape, df3.shape"
   ]
  },
  {
   "cell_type": "code",
   "execution_count": 15,
   "id": "b927741a",
   "metadata": {},
   "outputs": [
    {
     "data": {
      "text/plain": [
       "(651189, 11)"
      ]
     },
     "execution_count": 15,
     "metadata": {},
     "output_type": "execute_result"
    }
   ],
   "source": [
    "df = pd.concat([df1, df2, df3])\n",
    "df.shape"
   ]
  },
  {
   "cell_type": "code",
   "execution_count": 16,
   "id": "5b00ab06",
   "metadata": {},
   "outputs": [
    {
     "data": {
      "text/html": [
       "<div>\n",
       "<style scoped>\n",
       "    .dataframe tbody tr th:only-of-type {\n",
       "        vertical-align: middle;\n",
       "    }\n",
       "\n",
       "    .dataframe tbody tr th {\n",
       "        vertical-align: top;\n",
       "    }\n",
       "\n",
       "    .dataframe thead th {\n",
       "        text-align: right;\n",
       "    }\n",
       "</style>\n",
       "<table border=\"1\" class=\"dataframe\">\n",
       "  <thead>\n",
       "    <tr style=\"text-align: right;\">\n",
       "      <th></th>\n",
       "      <th>entropy</th>\n",
       "      <th>numDigits</th>\n",
       "      <th>urlLength</th>\n",
       "      <th>numParams</th>\n",
       "      <th>hasHttp</th>\n",
       "      <th>hasHttps</th>\n",
       "      <th>ext</th>\n",
       "      <th>num_%20</th>\n",
       "      <th>num_@</th>\n",
       "      <th>has_ip</th>\n",
       "      <th>target</th>\n",
       "    </tr>\n",
       "  </thead>\n",
       "  <tbody>\n",
       "    <tr>\n",
       "      <th>0</th>\n",
       "      <td>-3.375000</td>\n",
       "      <td>0</td>\n",
       "      <td>16</td>\n",
       "      <td>0</td>\n",
       "      <td>False</td>\n",
       "      <td>False</td>\n",
       "      <td>br</td>\n",
       "      <td>0</td>\n",
       "      <td>0</td>\n",
       "      <td>0</td>\n",
       "      <td>phishing</td>\n",
       "    </tr>\n",
       "    <tr>\n",
       "      <th>1</th>\n",
       "      <td>-4.079143</td>\n",
       "      <td>1</td>\n",
       "      <td>35</td>\n",
       "      <td>0</td>\n",
       "      <td>False</td>\n",
       "      <td>False</td>\n",
       "      <td>html</td>\n",
       "      <td>0</td>\n",
       "      <td>0</td>\n",
       "      <td>0</td>\n",
       "      <td>benign</td>\n",
       "    </tr>\n",
       "    <tr>\n",
       "      <th>2</th>\n",
       "      <td>-3.708093</td>\n",
       "      <td>1</td>\n",
       "      <td>31</td>\n",
       "      <td>0</td>\n",
       "      <td>False</td>\n",
       "      <td>False</td>\n",
       "      <td>htm</td>\n",
       "      <td>0</td>\n",
       "      <td>0</td>\n",
       "      <td>0</td>\n",
       "      <td>benign</td>\n",
       "    </tr>\n",
       "    <tr>\n",
       "      <th>3</th>\n",
       "      <td>-4.660343</td>\n",
       "      <td>7</td>\n",
       "      <td>88</td>\n",
       "      <td>3</td>\n",
       "      <td>True</td>\n",
       "      <td>False</td>\n",
       "      <td>php?option=com_content&amp;view=article&amp;id=70&amp;vsig...</td>\n",
       "      <td>0</td>\n",
       "      <td>0</td>\n",
       "      <td>0</td>\n",
       "      <td>defacement</td>\n",
       "    </tr>\n",
       "    <tr>\n",
       "      <th>4</th>\n",
       "      <td>-5.491293</td>\n",
       "      <td>22</td>\n",
       "      <td>235</td>\n",
       "      <td>2</td>\n",
       "      <td>True</td>\n",
       "      <td>False</td>\n",
       "      <td>php?option=com_mailto&amp;tmpl=component&amp;link=aHR0...</td>\n",
       "      <td>0</td>\n",
       "      <td>0</td>\n",
       "      <td>0</td>\n",
       "      <td>defacement</td>\n",
       "    </tr>\n",
       "  </tbody>\n",
       "</table>\n",
       "</div>"
      ],
      "text/plain": [
       "    entropy  numDigits  urlLength  numParams  hasHttp  hasHttps  \\\n",
       "0 -3.375000          0         16          0    False     False   \n",
       "1 -4.079143          1         35          0    False     False   \n",
       "2 -3.708093          1         31          0    False     False   \n",
       "3 -4.660343          7         88          3     True     False   \n",
       "4 -5.491293         22        235          2     True     False   \n",
       "\n",
       "                                                 ext  num_%20  num_@  has_ip  \\\n",
       "0                                                 br        0      0       0   \n",
       "1                                               html        0      0       0   \n",
       "2                                                htm        0      0       0   \n",
       "3  php?option=com_content&view=article&id=70&vsig...        0      0       0   \n",
       "4  php?option=com_mailto&tmpl=component&link=aHR0...        0      0       0   \n",
       "\n",
       "       target  \n",
       "0    phishing  \n",
       "1      benign  \n",
       "2      benign  \n",
       "3  defacement  \n",
       "4  defacement  "
      ]
     },
     "execution_count": 16,
     "metadata": {},
     "output_type": "execute_result"
    }
   ],
   "source": [
    "df.head()"
   ]
  },
  {
   "cell_type": "code",
   "execution_count": 17,
   "id": "8ace57db",
   "metadata": {},
   "outputs": [
    {
     "data": {
      "text/plain": [
       "benign        428102\n",
       "defacement     96457\n",
       "phishing       94110\n",
       "malware        32520\n",
       "Name: target, dtype: int64"
      ]
     },
     "execution_count": 17,
     "metadata": {},
     "output_type": "execute_result"
    }
   ],
   "source": [
    "df['target'].value_counts()"
   ]
  },
  {
   "cell_type": "code",
   "execution_count": 22,
   "id": "8d2d88e1",
   "metadata": {},
   "outputs": [
    {
     "data": {
      "image/png": "[encoded data removed]",
      "text/plain": [
       "<Figure size 576x432 with 2 Axes>"
      ]
     },
     "metadata": {
      "needs_background": "light"
     },
     "output_type": "display_data"
    }
   ],
   "source": [
    "plt.figure(figsize=(8, 6))\n",
    "sns.heatmap(df.corr(), annot=True, cmap='Blues');"
   ]
  },
  {
   "cell_type": "code",
   "execution_count": 36,
   "id": "3a9b2e5a",
   "metadata": {},
   "outputs": [
    {
     "data": {
      "text/plain": [
       "entropy        0\n",
       "numDigits      0\n",
       "urlLength      0\n",
       "numParams      0\n",
       "hasHttp        0\n",
       "hasHttps       0\n",
       "ext          161\n",
       "num_%20        0\n",
       "num_@          0\n",
       "has_ip         0\n",
       "target         0\n",
       "dtype: int64"
      ]
     },
     "execution_count": 36,
     "metadata": {},
     "output_type": "execute_result"
    }
   ],
   "source": [
    "df.isna().sum()"
   ]
  },
  {
   "cell_type": "code",
   "execution_count": 26,
   "id": "f66b332b",
   "metadata": {
    "scrolled": true
   },
   "outputs": [
    {
     "data": {
      "text/plain": [
       "php?show=759                                                                                    1\n",
       "exe?id=950942&hash=5                                                                            1\n",
       "html?cid=rssnewscanada                                                                          1\n",
       "aspx?search-releases=scott+tucker&x=0&y=0                                                       1\n",
       "php?option=com_content&view=article&id=180:may-15-teamwork-episode-05&catid=66:teamwork         1\n",
       "                                                                                            ...  \n",
       "php                                                                                         21230\n",
       "htm                                                                                         30358\n",
       "org                                                                                         32525\n",
       "html                                                                                        96202\n",
       "com                                                                                        238242\n",
       "Name: ext, Length: 84482, dtype: int64"
      ]
     },
     "execution_count": 26,
     "metadata": {},
     "output_type": "execute_result"
    }
   ],
   "source": [
    "df['ext']"
   ]
  },
  {
   "cell_type": "code",
   "execution_count": 46,
   "id": "0851ac6d",
   "metadata": {},
   "outputs": [],
   "source": [
    "def clean_ext(ext):\n",
    "    if(isinstance(ext, str)):\n",
    "        if '?' in ext:\n",
    "            return ext.split('?')[0]\n",
    "        return ext\n",
    "    else:\n",
    "        return \"\""
   ]
  },
  {
   "cell_type": "code",
   "execution_count": 47,
   "id": "17facee0",
   "metadata": {},
   "outputs": [
    {
     "data": {
      "text/plain": [
       "'exe'"
      ]
     },
     "execution_count": 47,
     "metadata": {},
     "output_type": "execute_result"
    }
   ],
   "source": [
    "clean_ext('exe?id=950942&hash=5')"
   ]
  },
  {
   "cell_type": "code",
   "execution_count": 51,
   "id": "371c2e99",
   "metadata": {},
   "outputs": [],
   "source": [
    "df['ext'] = df['ext'].apply(lambda e: clean_ext(e))"
   ]
  },
  {
   "cell_type": "code",
   "execution_count": 53,
   "id": "3a200022",
   "metadata": {},
   "outputs": [
    {
     "data": {
      "text/plain": [
       "entropy      0\n",
       "numDigits    0\n",
       "urlLength    0\n",
       "numParams    0\n",
       "hasHttp      0\n",
       "hasHttps     0\n",
       "ext          0\n",
       "num_%20      0\n",
       "num_@        0\n",
       "has_ip       0\n",
       "target       0\n",
       "dtype: int64"
      ]
     },
     "execution_count": 53,
     "metadata": {},
     "output_type": "execute_result"
    }
   ],
   "source": [
    "df.isna().sum()"
   ]
  },
  {
   "cell_type": "code",
   "execution_count": 69,
   "id": "f8f282e5",
   "metadata": {},
   "outputs": [
    {
     "data": {
      "text/plain": [
       "com       238259\n",
       "html      107692\n",
       "php        77677\n",
       "org        32526\n",
       "htm        32270\n",
       "           ...  \n",
       "paypal        17\n",
       "mu            16\n",
       "wz            16\n",
       "today         16\n",
       "35            16\n",
       "Name: ext, Length: 400, dtype: int64"
      ]
     },
     "execution_count": 69,
     "metadata": {},
     "output_type": "execute_result"
    }
   ],
   "source": [
    "df['ext'].value_counts().sort_values(ascending=False)[:400]"
   ]
  },
  {
   "cell_type": "code",
   "execution_count": null,
   "id": "b3303bed",
   "metadata": {},
   "outputs": [],
   "source": []
  },
  {
   "cell_type": "code",
   "execution_count": null,
   "id": "0f7e96af",
   "metadata": {},
   "outputs": [],
   "source": []
  },
  {
   "cell_type": "code",
   "execution_count": null,
   "id": "87c4ce83",
   "metadata": {},
   "outputs": [],
   "source": []
  },
  {
   "cell_type": "code",
   "execution_count": null,
   "id": "79b30b94",
   "metadata": {},
   "outputs": [],
   "source": []
  },
  {
   "cell_type": "markdown",
   "id": "726b1169",
   "metadata": {},
   "source": [
    "### References:\n",
    "https://medium.com/nerd-for-tech/url-feature-engineering-and-classification-66c0512fb34d"
   ]
  }
 ],
 "metadata": {
  "kernelspec": {
   "display_name": "Python 3 (ipykernel)",
   "language": "python",
   "name": "python3"
  },
  "language_info": {
   "codemirror_mode": {
    "name": "ipython",
    "version": 3
   },
   "file_extension": ".py",
   "mimetype": "text/x-python",
   "name": "python",
   "nbconvert_exporter": "python",
   "pygments_lexer": "ipython3",
   "version": "3.9.12"
  }
 },
 "nbformat": 4,
 "nbformat_minor": 5
}
