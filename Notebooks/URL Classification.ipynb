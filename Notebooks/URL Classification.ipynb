{
 "cells": [
  {
   "cell_type": "markdown",
   "id": "e5661f99",
   "metadata": {},
   "source": [
    "# Malicious URL Classification"
   ]
  },
  {
   "cell_type": "code",
   "execution_count": 1,
   "id": "6921522e",
   "metadata": {},
   "outputs": [],
   "source": [
    "import pandas as pd\n",
    "import numpy as np\n",
    "import matplotlib.pyplot as plt\n",
    "import seaborn as sns"
   ]
  },
  {
   "cell_type": "code",
   "execution_count": 2,
   "id": "78a3d9b5",
   "metadata": {},
   "outputs": [],
   "source": [
    "import warnings\n",
    "from tqdm import tqdm"
   ]
  },
  {
   "cell_type": "code",
   "execution_count": 3,
   "id": "a963cef7",
   "metadata": {},
   "outputs": [],
   "source": [
    "from re import compile\n",
    "from urllib.parse import urlparse\n",
    "from socket import gethostbyname"
   ]
  },
  {
   "cell_type": "code",
   "execution_count": 4,
   "id": "14fdaa28",
   "metadata": {},
   "outputs": [
    {
     "data": {
      "text/html": [
       "<div>\n",
       "<style scoped>\n",
       "    .dataframe tbody tr th:only-of-type {\n",
       "        vertical-align: middle;\n",
       "    }\n",
       "\n",
       "    .dataframe tbody tr th {\n",
       "        vertical-align: top;\n",
       "    }\n",
       "\n",
       "    .dataframe thead th {\n",
       "        text-align: right;\n",
       "    }\n",
       "</style>\n",
       "<table border=\"1\" class=\"dataframe\">\n",
       "  <thead>\n",
       "    <tr style=\"text-align: right;\">\n",
       "      <th></th>\n",
       "      <th>url</th>\n",
       "      <th>type</th>\n",
       "    </tr>\n",
       "  </thead>\n",
       "  <tbody>\n",
       "    <tr>\n",
       "      <th>0</th>\n",
       "      <td>br-icloud.com.br</td>\n",
       "      <td>phishing</td>\n",
       "    </tr>\n",
       "    <tr>\n",
       "      <th>1</th>\n",
       "      <td>mp3raid.com/music/krizz_kaliko.html</td>\n",
       "      <td>benign</td>\n",
       "    </tr>\n",
       "    <tr>\n",
       "      <th>2</th>\n",
       "      <td>bopsecrets.org/rexroth/cr/1.htm</td>\n",
       "      <td>benign</td>\n",
       "    </tr>\n",
       "    <tr>\n",
       "      <th>3</th>\n",
       "      <td>http://www.garage-pirenne.be/index.php?option=...</td>\n",
       "      <td>defacement</td>\n",
       "    </tr>\n",
       "    <tr>\n",
       "      <th>4</th>\n",
       "      <td>http://adventure-nicaragua.net/index.php?optio...</td>\n",
       "      <td>defacement</td>\n",
       "    </tr>\n",
       "  </tbody>\n",
       "</table>\n",
       "</div>"
      ],
      "text/plain": [
       "                                                 url        type\n",
       "0                                   br-icloud.com.br    phishing\n",
       "1                mp3raid.com/music/krizz_kaliko.html      benign\n",
       "2                    bopsecrets.org/rexroth/cr/1.htm      benign\n",
       "3  http://www.garage-pirenne.be/index.php?option=...  defacement\n",
       "4  http://adventure-nicaragua.net/index.php?optio...  defacement"
      ]
     },
     "execution_count": 4,
     "metadata": {},
     "output_type": "execute_result"
    }
   ],
   "source": [
    "df = pd.read_csv('../Datasets/malicious_phish.csv')\n",
    "df.head()"
   ]
  },
  {
   "cell_type": "code",
   "execution_count": 5,
   "id": "80b1dc50",
   "metadata": {},
   "outputs": [
    {
     "data": {
      "text/plain": [
       "(651191, 2)"
      ]
     },
     "execution_count": 5,
     "metadata": {},
     "output_type": "execute_result"
    }
   ],
   "source": [
    "df.shape"
   ]
  },
  {
   "cell_type": "code",
   "execution_count": 6,
   "id": "030033f9",
   "metadata": {},
   "outputs": [
    {
     "data": {
      "text/plain": [
       "benign        428103\n",
       "defacement     96457\n",
       "phishing       94111\n",
       "malware        32520\n",
       "Name: type, dtype: int64"
      ]
     },
     "execution_count": 6,
     "metadata": {},
     "output_type": "execute_result"
    }
   ],
   "source": [
    "df['type'].value_counts()"
   ]
  },
  {
   "cell_type": "code",
   "execution_count": 7,
   "id": "f026c288",
   "metadata": {},
   "outputs": [
    {
     "data": {
      "image/png": "[encoded data removed]",
      "text/plain": [
       "<Figure size 576x432 with 1 Axes>"
      ]
     },
     "metadata": {
      "needs_background": "light"
     },
     "output_type": "display_data"
    }
   ],
   "source": [
    "plt.figure(figsize=(8, 6))\n",
    "sns.countplot(data=df, x='type');"
   ]
  },
  {
   "cell_type": "markdown",
   "id": "86ece672",
   "metadata": {},
   "source": [
    "## Feature Extraction"
   ]
  },
  {
   "cell_type": "code",
   "execution_count": 8,
   "id": "242121e3",
   "metadata": {},
   "outputs": [],
   "source": [
    "import whois\n",
    "from datetime import datetime, timezone\n",
    "import math\n",
    "from pyquery import PyQuery\n",
    "from requests import get\n",
    "from interruptingcow import timeout"
   ]
  },
  {
   "cell_type": "code",
   "execution_count": 5,
   "id": "42630ec7",
   "metadata": {},
   "outputs": [],
   "source": [
    "example_url = 'http://www.garage-pirenne.be/index.php?option=com_content&view=article&id=70&vsig70_0=15'"
   ]
  },
  {
   "cell_type": "code",
   "execution_count": 6,
   "id": "41ce8083",
   "metadata": {},
   "outputs": [
    {
     "data": {
      "text/plain": [
       "'www.garage-pirenne.be'"
      ]
     },
     "execution_count": 6,
     "metadata": {},
     "output_type": "execute_result"
    }
   ],
   "source": [
    "domain = example_url.split('//')[-1].split('/')[0]\n",
    "domain"
   ]
  },
  {
   "cell_type": "markdown",
   "id": "83f648ad",
   "metadata": {},
   "source": [
    "Testing Whois Library"
   ]
  },
  {
   "cell_type": "code",
   "execution_count": 7,
   "id": "4fbcd4ec",
   "metadata": {},
   "outputs": [
    {
     "name": "stdout",
     "output_type": "stream",
     "text": [
      "Error trying to connect to socket: closing socket - timed out\n"
     ]
    },
    {
     "data": {
      "text/plain": [
       "{'domain_name': None,\n",
       " 'registrar': None,\n",
       " 'whois_server': None,\n",
       " 'referral_url': None,\n",
       " 'updated_date': None,\n",
       " 'creation_date': None,\n",
       " 'expiration_date': None,\n",
       " 'name_servers': None,\n",
       " 'status': None,\n",
       " 'emails': None,\n",
       " 'dnssec': None,\n",
       " 'name': None,\n",
       " 'org': None,\n",
       " 'address': None,\n",
       " 'city': None,\n",
       " 'state': None,\n",
       " 'registrant_postal_code': None,\n",
       " 'country': None}"
      ]
     },
     "execution_count": 7,
     "metadata": {},
     "output_type": "execute_result"
    }
   ],
   "source": [
    "whois.whois(\"google.com\")"
   ]
  },
  {
   "cell_type": "code",
   "execution_count": 12,
   "id": "a930de2a",
   "metadata": {},
   "outputs": [],
   "source": [
    "response = get(\"https://google.com\")\n",
    "pq = PyQuery(response.text)"
   ]
  },
  {
   "cell_type": "code",
   "execution_count": 9,
   "id": "bc7d5d5b",
   "metadata": {},
   "outputs": [],
   "source": [
    "class UrlFeaturizer(object):\n",
    "    def __init__(self, url):\n",
    "        self.url = url\n",
    "        self.domain = url.split('//')[-1].split('/')[0]\n",
    "        self.today = datetime.now().replace(tzinfo=None)\n",
    "\n",
    "        try:\n",
    "            self.whois = whois.query(self.domain).__dict__\n",
    "        except:\n",
    "            self.whois = None\n",
    "\n",
    "        try:\n",
    "            self.response = get(self.url)\n",
    "            self.pq = PyQuery(self.response.text)\n",
    "        except:\n",
    "            self.response = None\n",
    "            self.pq = None\n",
    "\n",
    "    def entropy(self):\n",
    "        string = self.url.strip()\n",
    "        prob = [float(string.count(c)) / len(string) for c in dict.fromkeys(list(string))]\n",
    "        entropy = sum([(p * math.log(p) / math.log(2.0)) for p in prob])\n",
    "        return entropy\n",
    "\n",
    "    def ip(self):\n",
    "        string = self.url\n",
    "        flag = False\n",
    "        if (\".\" in string):\n",
    "            elements_array = string.strip().split(\".\")\n",
    "            if(len(elements_array) == 4):\n",
    "                for i in elements_array:\n",
    "                    if (i.isnumeric() and int(i)>=0 and int(i)<=255):\n",
    "                        flag=True\n",
    "                    else:\n",
    "                        flag=False\n",
    "                        break\n",
    "        if flag:\n",
    "            return 1 \n",
    "        else:\n",
    "            return 0\n",
    "\n",
    "    def numDigits(self):\n",
    "        digits = [i for i in self.url if i.isdigit()]\n",
    "        return len(digits)\n",
    "\n",
    "    def urlLength(self):\n",
    "        return len(self.url)\n",
    "\n",
    "    def numParameters(self):\n",
    "        params = self.url.split('&')\n",
    "        return len(params) - 1\n",
    "\n",
    "    def numFragments(self):\n",
    "        fragments = self.url.split('#')\n",
    "        return len(fragments) - 1\n",
    "\n",
    "    def numSubDomains(self):\n",
    "        subdomains = self.url.split('http')[-1].split('//')[-1].split('/')\n",
    "        return len(subdomains)-1\n",
    "\n",
    "    def domainExtension(self):\n",
    "        ext = self.url.split('.')[-1].split('/')[0]\n",
    "        return ext\n",
    "\n",
    "    ## URL domain features\n",
    "    def hasHttp(self):\n",
    "        return 'http:' in self.url\n",
    "\n",
    "    def hasHttps(self):\n",
    "        return 'https:' in self.url\n",
    "\n",
    "    def daysSinceRegistration(self):\n",
    "        if self.whois and self.whois['creation_date']:\n",
    "            diff = self.today - self.whois['creation_date'].replace(tzinfo=None)\n",
    "            diff = str(diff).split(' days')[0]\n",
    "            return diff\n",
    "        else:\n",
    "            return 0\n",
    "\n",
    "    def daysSinceExpiration(self):\n",
    "        if self.whois and self.whois['expiration_date']:\n",
    "            diff = self.whois['expiration_date'].replace(tzinfo=None) - self.today\n",
    "            diff = str(diff).split(' days')[0]\n",
    "            return diff\n",
    "        else:\n",
    "            return 0\n",
    "    \n",
    "     ## URL Page Features\n",
    "    def bodyLength(self):\n",
    "        if self.pq is not None:\n",
    "            return len(self.pq('html').text()) if self.urlIsLive else 0\n",
    "        else:\n",
    "            return 0\n",
    "\n",
    "    def numTitles(self):\n",
    "        if self.pq is not None:\n",
    "            titles = ['h{}'.format(i) for i in range(7)]\n",
    "            titles = [self.pq(i).items() for i in titles]\n",
    "            return len([item for s in titles for item in s])\n",
    "        else:\n",
    "            return 0\n",
    "\n",
    "    def numImages(self):\n",
    "        if self.pq is not None:\n",
    "            return len([i for i in self.pq('img').items()])\n",
    "        else:\n",
    "            return 0\n",
    "\n",
    "    def numLinks(self):\n",
    "        if self.pq is not None:\n",
    "            return len([i for i in self.pq('a').items()])\n",
    "        else:\n",
    "            return 0\n",
    "\n",
    "    def scriptLength(self):\n",
    "        if self.pq is not None:\n",
    "            return len(self.pq('script').text())\n",
    "        else:\n",
    "            return 0\n",
    "\n",
    "    def specialCharacters(self):\n",
    "        if self.pq is not None:\n",
    "            bodyText = self.pq('html').text()\n",
    "            schars = [i for i in bodyText if not i.isdigit() and not i.isalpha()]\n",
    "            return len(schars)\n",
    "        else:\n",
    "            return 0\n",
    "\n",
    "    def scriptToSpecialCharsRatio(self):\n",
    "        v = self.specialCharacters()\n",
    "        if self.pq is not None and v!=0:\n",
    "            sscr = self.scriptLength()/v\n",
    "        else:\n",
    "            sscr = 0\n",
    "        return sscr\n",
    "\n",
    "    def scriptTobodyRatio(self):\n",
    "        v = self.bodyLength()\n",
    "        if self.pq is not None and v!=0:\n",
    "            sbr = self.scriptLength()/v\n",
    "        else:\n",
    "            sbr = 0\n",
    "        return sbr\n",
    "\n",
    "    def bodyToSpecialCharRatio(self):\n",
    "        v = self.bodyLength()\n",
    "        if self.pq is not None and v!=0:\n",
    "            bscr = self.specialCharacters()/v\n",
    "        else:\n",
    "            bscr = 0\n",
    "        return bscr\n",
    "\n",
    "    def urlIsLive(self):\n",
    "        return self.response == 200\n",
    "\n",
    "    def run(self):\n",
    "        data = {}\n",
    "        data['entropy'] = self.entropy()\n",
    "        data['numDigits'] = self.numDigits()\n",
    "        data['urlLength'] = self.urlLength()\n",
    "        data['numParams'] = self.numParameters()\n",
    "        data['hasHttp'] = self.hasHttp()\n",
    "        data['hasHttps'] = self.hasHttps()\n",
    "        data['urlIsLive'] = self.urlIsLive()\n",
    "        data['bodyLength'] = self.bodyLength()\n",
    "        data['numTitles'] = self.numTitles()\n",
    "        data['numImages'] = self.numImages()\n",
    "        data['numLinks'] = self.numLinks()\n",
    "        data['scriptLength'] = self.scriptLength()\n",
    "        data['specialChars'] = self.specialCharacters()\n",
    "        data['ext'] = self.domainExtension()\n",
    "        data['dsr'] = self.daysSinceRegistration()\n",
    "        data['dse'] = self.daysSinceExpiration()\n",
    "        data['sscr'] = self.scriptToSpecialCharsRatio()\n",
    "        data['sbr'] = self.scriptTobodyRatio()\n",
    "        data['bscr'] = self.bodyToSpecialCharRatio()\n",
    "        data['num_%20'] = self.url.count(\"%20\")\n",
    "        data['num_@'] = self.url.count(\"@\")\n",
    "        data['has_ip'] = self.ip()\n",
    "    \n",
    "        return data"
   ]
  },
  {
   "cell_type": "code",
   "execution_count": 10,
   "id": "5c5ddcb5",
   "metadata": {
    "scrolled": false
   },
   "outputs": [
    {
     "data": {
      "text/plain": [
       "{'entropy': -3.57243125132212,\n",
       " 'numDigits': 0,\n",
       " 'urlLength': 18,\n",
       " 'numParams': 0,\n",
       " 'hasHttp': False,\n",
       " 'hasHttps': True,\n",
       " 'urlIsLive': False,\n",
       " 'bodyLength': 10643,\n",
       " 'numTitles': 0,\n",
       " 'numImages': 1,\n",
       " 'numLinks': 27,\n",
       " 'scriptLength': 8532,\n",
       " 'specialChars': 3081,\n",
       " 'ext': 'com',\n",
       " 'dsr': 0,\n",
       " 'dse': 0,\n",
       " 'sscr': 2.769230769230769,\n",
       " 'sbr': 0.8016536690782674,\n",
       " 'bscr': 0.2894860471671521,\n",
       " 'num_%20': 0,\n",
       " 'num_@': 0,\n",
       " 'has_ip': 0}"
      ]
     },
     "execution_count": 10,
     "metadata": {},
     "output_type": "execute_result"
    }
   ],
   "source": [
    "UrlFeaturizer('https://google.com').run()"
   ]
  },
  {
   "cell_type": "code",
   "execution_count": 12,
   "id": "2604e26f",
   "metadata": {},
   "outputs": [],
   "source": [
    "url = \"https://google.com\""
   ]
  },
  {
   "cell_type": "code",
   "execution_count": 13,
   "id": "02888b2b",
   "metadata": {},
   "outputs": [],
   "source": [
    "urlparse = urlparse(url)"
   ]
  },
  {
   "cell_type": "code",
   "execution_count": 14,
   "id": "9defea70",
   "metadata": {},
   "outputs": [],
   "source": [
    "def url_host_is_ip():\n",
    "    host = urlparse.netloc\n",
    "    pattern = compile(\"^\\d{1,3}\\.\\d{1,3}\\.\\d{1,3}\\.\\d{1,3}$\")\n",
    "    match = pattern.match(host)\n",
    "    return match is not None"
   ]
  },
  {
   "cell_type": "code",
   "execution_count": 15,
   "id": "b58d29c1",
   "metadata": {},
   "outputs": [
    {
     "data": {
      "text/plain": [
       "False"
      ]
     },
     "execution_count": 15,
     "metadata": {},
     "output_type": "execute_result"
    }
   ],
   "source": [
    "url_host_is_ip()"
   ]
  },
  {
   "cell_type": "code",
   "execution_count": 22,
   "id": "8daa3e06",
   "metadata": {},
   "outputs": [],
   "source": [
    "def get_ip():\n",
    "    ip = urlparse.netloc if url_host_is_ip() else gethostbyname(urlparse.netloc)\n",
    "    print(ip)"
   ]
  },
  {
   "cell_type": "code",
   "execution_count": 23,
   "id": "5a094d3d",
   "metadata": {},
   "outputs": [
    {
     "name": "stdout",
     "output_type": "stream",
     "text": [
      "142.250.195.238\n"
     ]
    }
   ],
   "source": [
    "get_ip()"
   ]
  },
  {
   "cell_type": "code",
   "execution_count": 24,
   "id": "dc436c14",
   "metadata": {},
   "outputs": [
    {
     "name": "stdout",
     "output_type": "stream",
     "text": [
      "0\n"
     ]
    }
   ],
   "source": [
    "def url_path_length():\n",
    "        print(len(urlparse.path))\n",
    "url_path_length()"
   ]
  },
  {
   "cell_type": "code",
   "execution_count": 25,
   "id": "b33c3482",
   "metadata": {},
   "outputs": [
    {
     "name": "stdout",
     "output_type": "stream",
     "text": [
      "10\n"
     ]
    }
   ],
   "source": [
    "def url_host_length():\n",
    "    print(len(urlparse.netloc))\n",
    "url_host_length()"
   ]
  },
  {
   "cell_type": "code",
   "execution_count": 26,
   "id": "dd74a439",
   "metadata": {},
   "outputs": [
    {
     "name": "stdout",
     "output_type": "stream",
     "text": [
      "False\n"
     ]
    }
   ],
   "source": [
    "def url_has_port_in_string():\n",
    "        has_port = urlparse.netloc.split(':')\n",
    "        print(len(has_port) > 1 and has_port[-1].isdigit())\n",
    "url_has_port_in_string()"
   ]
  },
  {
   "cell_type": "code",
   "execution_count": 27,
   "id": "77095645",
   "metadata": {},
   "outputs": [
    {
     "name": "stdout",
     "output_type": "stream",
     "text": [
      "False\n"
     ]
    }
   ],
   "source": [
    "def is_encoded():\n",
    "    print('%' in url.lower())\n",
    "is_encoded()"
   ]
  },
  {
   "cell_type": "code",
   "execution_count": 28,
   "id": "68c11440",
   "metadata": {},
   "outputs": [
    {
     "name": "stdout",
     "output_type": "stream",
     "text": [
      "0\n"
     ]
    }
   ],
   "source": [
    "def num_encoded_char():\n",
    "        encs = [i for i in url if i == '%']\n",
    "        print(len(encs))\n",
    "num_encoded_char()"
   ]
  },
  {
   "cell_type": "code",
   "execution_count": 29,
   "id": "a1cdd674",
   "metadata": {},
   "outputs": [
    {
     "name": "stdout",
     "output_type": "stream",
     "text": [
      "1\n"
     ]
    }
   ],
   "source": [
    "def number_of_subdirectories():\n",
    "        d = urlparse.path.split('/')\n",
    "        print(len(d))\n",
    "number_of_subdirectories()"
   ]
  },
  {
   "cell_type": "code",
   "execution_count": 30,
   "id": "b4664cdd",
   "metadata": {},
   "outputs": [
    {
     "name": "stdout",
     "output_type": "stream",
     "text": [
      "1\n"
     ]
    }
   ],
   "source": [
    "def number_of_periods():\n",
    "        periods = [i for i in url if i == '.']\n",
    "        print(len(periods))\n",
    "number_of_periods()"
   ]
  },
  {
   "cell_type": "code",
   "execution_count": 32,
   "id": "ee35ed5d",
   "metadata": {},
   "outputs": [
    {
     "name": "stdout",
     "output_type": "stream",
     "text": [
      "False\n",
      "False\n",
      "False\n",
      "False\n",
      "com\n"
     ]
    }
   ],
   "source": [
    "def has_client_in_string():\n",
    "    print('client' in url.lower())\n",
    "\n",
    "def has_admin_in_string():\n",
    "    print('admin' in url.lower())\n",
    "\n",
    "def has_server_in_string():\n",
    "    print('server' in url.lower())\n",
    "\n",
    "def has_login_in_string():\n",
    "    print('login' in url.lower())\n",
    "\n",
    "def get_tld():\n",
    "    print(urlparse.netloc.split('.')[-1].split(':')[0])\n",
    "has_client_in_string()\n",
    "has_admin_in_string()\n",
    "has_server_in_string()\n",
    "has_login_in_string()\n",
    "get_tld()"
   ]
  },
  {
   "cell_type": "code",
   "execution_count": 10,
   "id": "6b01a9e2",
   "metadata": {},
   "outputs": [],
   "source": [
    "warnings.simplefilter(action='ignore', category=FutureWarning)"
   ]
  },
  {
   "cell_type": "markdown",
   "id": "2d09c5d0",
   "metadata": {},
   "source": [
    "### Loading the data"
   ]
  },
  {
   "cell_type": "code",
   "execution_count": 4,
   "id": "cacf8ed6",
   "metadata": {},
   "outputs": [
    {
     "name": "stderr",
     "output_type": "stream",
     "text": [
      "C:\\Users\\nihal\\AppData\\Local\\Temp\\ipykernel_39696\\2911954700.py:2: DtypeWarning: Columns (22) have mixed types. Specify dtype option on import or set low_memory=False.\n",
      "  df2 = pd.read_csv('../Datasets/feature_extraction2.csv')\n"
     ]
    }
   ],
   "source": [
    "df1 = pd.read_csv('../Datasets/feature_extraction1.csv')\n",
    "df2 = pd.read_csv('../Datasets/feature_extraction2.csv')\n",
    "df3 = pd.read_csv('../Datasets/feature_extraction3.csv')"
   ]
  },
  {
   "cell_type": "code",
   "execution_count": 5,
   "id": "4d634ece",
   "metadata": {},
   "outputs": [
    {
     "data": {
      "text/plain": [
       "((350000, 32), (301191, 32), (1190, 32))"
      ]
     },
     "execution_count": 5,
     "metadata": {},
     "output_type": "execute_result"
    }
   ],
   "source": [
    "df1.shape, df2.shape, df3.shape"
   ]
  },
  {
   "cell_type": "code",
   "execution_count": 6,
   "id": "b927741a",
   "metadata": {},
   "outputs": [
    {
     "data": {
      "text/plain": [
       "(652381, 32)"
      ]
     },
     "execution_count": 6,
     "metadata": {},
     "output_type": "execute_result"
    }
   ],
   "source": [
    "df = pd.concat([df1, df2, df3])\n",
    "df.shape"
   ]
  },
  {
   "cell_type": "code",
   "execution_count": 7,
   "id": "5b00ab06",
   "metadata": {},
   "outputs": [
    {
     "data": {
      "text/html": [
       "<div>\n",
       "<style scoped>\n",
       "    .dataframe tbody tr th:only-of-type {\n",
       "        vertical-align: middle;\n",
       "    }\n",
       "\n",
       "    .dataframe tbody tr th {\n",
       "        vertical-align: top;\n",
       "    }\n",
       "\n",
       "    .dataframe thead th {\n",
       "        text-align: right;\n",
       "    }\n",
       "</style>\n",
       "<table border=\"1\" class=\"dataframe\">\n",
       "  <thead>\n",
       "    <tr style=\"text-align: right;\">\n",
       "      <th></th>\n",
       "      <th>url</th>\n",
       "      <th>entropy</th>\n",
       "      <th>numDigits</th>\n",
       "      <th>urlLength</th>\n",
       "      <th>numParams</th>\n",
       "      <th>hasHttp</th>\n",
       "      <th>hasHttps</th>\n",
       "      <th>ext</th>\n",
       "      <th>num_%20</th>\n",
       "      <th>num_@</th>\n",
       "      <th>...</th>\n",
       "      <th>tld</th>\n",
       "      <th>count_arate</th>\n",
       "      <th>count_asterisk</th>\n",
       "      <th>count_questionmark</th>\n",
       "      <th>count_plus</th>\n",
       "      <th>count_exclamation</th>\n",
       "      <th>count_hyphen</th>\n",
       "      <th>count_equal</th>\n",
       "      <th>count_tilted</th>\n",
       "      <th>target</th>\n",
       "    </tr>\n",
       "  </thead>\n",
       "  <tbody>\n",
       "    <tr>\n",
       "      <th>0</th>\n",
       "      <td>br-icloud.com.br</td>\n",
       "      <td>-3.375000</td>\n",
       "      <td>0</td>\n",
       "      <td>16</td>\n",
       "      <td>0</td>\n",
       "      <td>False</td>\n",
       "      <td>False</td>\n",
       "      <td>br</td>\n",
       "      <td>0</td>\n",
       "      <td>0</td>\n",
       "      <td>...</td>\n",
       "      <td>NaN</td>\n",
       "      <td>0</td>\n",
       "      <td>0</td>\n",
       "      <td>0</td>\n",
       "      <td>0</td>\n",
       "      <td>0</td>\n",
       "      <td>1</td>\n",
       "      <td>0</td>\n",
       "      <td>0</td>\n",
       "      <td>phishing</td>\n",
       "    </tr>\n",
       "    <tr>\n",
       "      <th>1</th>\n",
       "      <td>mp3raid.com/music/krizz_kaliko.html</td>\n",
       "      <td>-4.079143</td>\n",
       "      <td>1</td>\n",
       "      <td>35</td>\n",
       "      <td>0</td>\n",
       "      <td>False</td>\n",
       "      <td>False</td>\n",
       "      <td>html</td>\n",
       "      <td>0</td>\n",
       "      <td>0</td>\n",
       "      <td>...</td>\n",
       "      <td>NaN</td>\n",
       "      <td>0</td>\n",
       "      <td>0</td>\n",
       "      <td>0</td>\n",
       "      <td>0</td>\n",
       "      <td>0</td>\n",
       "      <td>0</td>\n",
       "      <td>0</td>\n",
       "      <td>0</td>\n",
       "      <td>benign</td>\n",
       "    </tr>\n",
       "    <tr>\n",
       "      <th>2</th>\n",
       "      <td>bopsecrets.org/rexroth/cr/1.htm</td>\n",
       "      <td>-3.708093</td>\n",
       "      <td>1</td>\n",
       "      <td>31</td>\n",
       "      <td>0</td>\n",
       "      <td>False</td>\n",
       "      <td>False</td>\n",
       "      <td>htm</td>\n",
       "      <td>0</td>\n",
       "      <td>0</td>\n",
       "      <td>...</td>\n",
       "      <td>NaN</td>\n",
       "      <td>0</td>\n",
       "      <td>0</td>\n",
       "      <td>0</td>\n",
       "      <td>0</td>\n",
       "      <td>0</td>\n",
       "      <td>0</td>\n",
       "      <td>0</td>\n",
       "      <td>0</td>\n",
       "      <td>benign</td>\n",
       "    </tr>\n",
       "    <tr>\n",
       "      <th>3</th>\n",
       "      <td>http://www.garage-pirenne.be/index.php?option=...</td>\n",
       "      <td>-4.660343</td>\n",
       "      <td>7</td>\n",
       "      <td>88</td>\n",
       "      <td>3</td>\n",
       "      <td>True</td>\n",
       "      <td>False</td>\n",
       "      <td>php?option=com_content&amp;view=article&amp;id=70&amp;vsig...</td>\n",
       "      <td>0</td>\n",
       "      <td>0</td>\n",
       "      <td>...</td>\n",
       "      <td>be</td>\n",
       "      <td>0</td>\n",
       "      <td>0</td>\n",
       "      <td>1</td>\n",
       "      <td>0</td>\n",
       "      <td>0</td>\n",
       "      <td>1</td>\n",
       "      <td>4</td>\n",
       "      <td>0</td>\n",
       "      <td>defacement</td>\n",
       "    </tr>\n",
       "    <tr>\n",
       "      <th>4</th>\n",
       "      <td>http://adventure-nicaragua.net/index.php?optio...</td>\n",
       "      <td>-4.980518</td>\n",
       "      <td>22</td>\n",
       "      <td>235</td>\n",
       "      <td>2</td>\n",
       "      <td>True</td>\n",
       "      <td>False</td>\n",
       "      <td>php?option=com_mailto&amp;tmpl=component&amp;link=aHR0...</td>\n",
       "      <td>0</td>\n",
       "      <td>0</td>\n",
       "      <td>...</td>\n",
       "      <td>net</td>\n",
       "      <td>0</td>\n",
       "      <td>0</td>\n",
       "      <td>1</td>\n",
       "      <td>0</td>\n",
       "      <td>0</td>\n",
       "      <td>1</td>\n",
       "      <td>3</td>\n",
       "      <td>0</td>\n",
       "      <td>defacement</td>\n",
       "    </tr>\n",
       "  </tbody>\n",
       "</table>\n",
       "<p>5 rows × 32 columns</p>\n",
       "</div>"
      ],
      "text/plain": [
       "                                                 url   entropy  numDigits  \\\n",
       "0                                   br-icloud.com.br -3.375000          0   \n",
       "1                mp3raid.com/music/krizz_kaliko.html -4.079143          1   \n",
       "2                    bopsecrets.org/rexroth/cr/1.htm -3.708093          1   \n",
       "3  http://www.garage-pirenne.be/index.php?option=... -4.660343          7   \n",
       "4  http://adventure-nicaragua.net/index.php?optio... -4.980518         22   \n",
       "\n",
       "   urlLength  numParams  hasHttp  hasHttps  \\\n",
       "0         16          0    False     False   \n",
       "1         35          0    False     False   \n",
       "2         31          0    False     False   \n",
       "3         88          3     True     False   \n",
       "4        235          2     True     False   \n",
       "\n",
       "                                                 ext  num_%20  num_@  ...  \\\n",
       "0                                                 br        0      0  ...   \n",
       "1                                               html        0      0  ...   \n",
       "2                                                htm        0      0  ...   \n",
       "3  php?option=com_content&view=article&id=70&vsig...        0      0  ...   \n",
       "4  php?option=com_mailto&tmpl=component&link=aHR0...        0      0  ...   \n",
       "\n",
       "   tld  count_arate  count_asterisk  count_questionmark  count_plus  \\\n",
       "0  NaN            0               0                   0           0   \n",
       "1  NaN            0               0                   0           0   \n",
       "2  NaN            0               0                   0           0   \n",
       "3   be            0               0                   1           0   \n",
       "4  net            0               0                   1           0   \n",
       "\n",
       "   count_exclamation  count_hyphen  count_equal  count_tilted      target  \n",
       "0                  0             1            0             0    phishing  \n",
       "1                  0             0            0             0      benign  \n",
       "2                  0             0            0             0      benign  \n",
       "3                  0             1            4             0  defacement  \n",
       "4                  0             1            3             0  defacement  \n",
       "\n",
       "[5 rows x 32 columns]"
      ]
     },
     "execution_count": 7,
     "metadata": {},
     "output_type": "execute_result"
    }
   ],
   "source": [
    "df.head()"
   ]
  },
  {
   "cell_type": "code",
   "execution_count": 8,
   "id": "27e4839c",
   "metadata": {},
   "outputs": [],
   "source": [
    "df.drop_duplicates(inplace=True)"
   ]
  },
  {
   "cell_type": "code",
   "execution_count": 9,
   "id": "6314bb13",
   "metadata": {},
   "outputs": [
    {
     "data": {
      "text/plain": [
       "benign        428080\n",
       "defacement     95308\n",
       "phishing       94092\n",
       "malware        23645\n",
       "Name: target, dtype: int64"
      ]
     },
     "execution_count": 9,
     "metadata": {},
     "output_type": "execute_result"
    }
   ],
   "source": [
    "df['target'].value_counts()"
   ]
  },
  {
   "cell_type": "code",
   "execution_count": 10,
   "id": "23650808",
   "metadata": {},
   "outputs": [
    {
     "name": "stdout",
     "output_type": "stream",
     "text": [
      "<class 'pandas.core.frame.DataFrame'>\n",
      "Int64Index: 641125 entries, 0 to 301190\n",
      "Data columns (total 32 columns):\n",
      " #   Column                    Non-Null Count   Dtype  \n",
      "---  ------                    --------------   -----  \n",
      " 0   url                       641125 non-null  object \n",
      " 1   entropy                   641125 non-null  float64\n",
      " 2   numDigits                 641125 non-null  int64  \n",
      " 3   urlLength                 641125 non-null  int64  \n",
      " 4   numParams                 641125 non-null  int64  \n",
      " 5   hasHttp                   641125 non-null  bool   \n",
      " 6   hasHttps                  641125 non-null  bool   \n",
      " 7   ext                       640964 non-null  object \n",
      " 8   num_%20                   641125 non-null  int64  \n",
      " 9   num_@                     641125 non-null  int64  \n",
      " 10  has_ip                    641125 non-null  int64  \n",
      " 11  path_length               641125 non-null  int64  \n",
      " 12  host_length               641125 non-null  int64  \n",
      " 13  has_port                  641125 non-null  bool   \n",
      " 14  is_encoded                641125 non-null  bool   \n",
      " 15  num_encoded_char          641125 non-null  int64  \n",
      " 16  number_of_subdirectories  641125 non-null  int64  \n",
      " 17  number_of_periods         641125 non-null  int64  \n",
      " 18  has_client_in_string      641125 non-null  bool   \n",
      " 19  has_admin_in_string       641125 non-null  bool   \n",
      " 20  has_server_in_string      641125 non-null  bool   \n",
      " 21  has_login_in_string       641125 non-null  bool   \n",
      " 22  tld                       177954 non-null  object \n",
      " 23  count_arate               641125 non-null  int64  \n",
      " 24  count_asterisk            641125 non-null  int64  \n",
      " 25  count_questionmark        641125 non-null  int64  \n",
      " 26  count_plus                641125 non-null  int64  \n",
      " 27  count_exclamation         641125 non-null  int64  \n",
      " 28  count_hyphen              641125 non-null  int64  \n",
      " 29  count_equal               641125 non-null  int64  \n",
      " 30  count_tilted              641125 non-null  int64  \n",
      " 31  target                    641125 non-null  object \n",
      "dtypes: bool(8), float64(1), int64(19), object(4)\n",
      "memory usage: 127.2+ MB\n"
     ]
    }
   ],
   "source": [
    "df.info()"
   ]
  },
  {
   "cell_type": "code",
   "execution_count": 11,
   "id": "9bcdbf8b",
   "metadata": {},
   "outputs": [
    {
     "data": {
      "text/plain": [
       "url                              0\n",
       "entropy                          0\n",
       "numDigits                        0\n",
       "urlLength                        0\n",
       "numParams                        0\n",
       "hasHttp                          0\n",
       "hasHttps                         0\n",
       "ext                            161\n",
       "num_%20                          0\n",
       "num_@                            0\n",
       "has_ip                           0\n",
       "path_length                      0\n",
       "host_length                      0\n",
       "has_port                         0\n",
       "is_encoded                       0\n",
       "num_encoded_char                 0\n",
       "number_of_subdirectories         0\n",
       "number_of_periods                0\n",
       "has_client_in_string             0\n",
       "has_admin_in_string              0\n",
       "has_server_in_string             0\n",
       "has_login_in_string              0\n",
       "tld                         463171\n",
       "count_arate                      0\n",
       "count_asterisk                   0\n",
       "count_questionmark               0\n",
       "count_plus                       0\n",
       "count_exclamation                0\n",
       "count_hyphen                     0\n",
       "count_equal                      0\n",
       "count_tilted                     0\n",
       "target                           0\n",
       "dtype: int64"
      ]
     },
     "execution_count": 11,
     "metadata": {},
     "output_type": "execute_result"
    }
   ],
   "source": [
    "df.isna().sum()"
   ]
  },
  {
   "cell_type": "code",
   "execution_count": 12,
   "id": "cde9ae63",
   "metadata": {},
   "outputs": [],
   "source": [
    "df.drop('tld', axis=1, inplace=True)"
   ]
  },
  {
   "cell_type": "code",
   "execution_count": 13,
   "id": "eca475e5",
   "metadata": {},
   "outputs": [
    {
     "data": {
      "text/plain": [
       "0    641125\n",
       "Name: has_ip, dtype: int64"
      ]
     },
     "execution_count": 13,
     "metadata": {},
     "output_type": "execute_result"
    }
   ],
   "source": [
    "df['has_ip'].value_counts()"
   ]
  },
  {
   "cell_type": "code",
   "execution_count": 14,
   "id": "9fc016c0",
   "metadata": {},
   "outputs": [],
   "source": [
    "df.drop('has_ip', axis=1, inplace=True)"
   ]
  },
  {
   "cell_type": "code",
   "execution_count": 15,
   "id": "8d2d88e1",
   "metadata": {
    "scrolled": false
   },
   "outputs": [
    {
     "data": {
      "image/png": "[encoded data removed]",
      "text/plain": [
       "<Figure size 720x576 with 2 Axes>"
      ]
     },
     "metadata": {
      "needs_background": "light"
     },
     "output_type": "display_data"
    }
   ],
   "source": [
    "plt.figure(figsize=(10, 8))\n",
    "sns.heatmap(df.dropna().corr(), cmap='Blues');"
   ]
  },
  {
   "cell_type": "code",
   "execution_count": 16,
   "id": "f66b332b",
   "metadata": {
    "scrolled": true
   },
   "outputs": [
    {
     "data": {
      "text/plain": [
       "0                                                        br\n",
       "1                                                      html\n",
       "2                                                       htm\n",
       "3         php?option=com_content&view=article&id=70&vsig...\n",
       "4         php?option=com_mailto&tmpl=component&link=aHR0...\n",
       "                                ...                        \n",
       "301186                                                  com\n",
       "301187                                                  net\n",
       "301188                                                  htm\n",
       "301189                                                  com\n",
       "301190                                                 html\n",
       "Name: ext, Length: 641125, dtype: object"
      ]
     },
     "execution_count": 16,
     "metadata": {},
     "output_type": "execute_result"
    }
   ],
   "source": [
    "df['ext']"
   ]
  },
  {
   "cell_type": "code",
   "execution_count": 17,
   "id": "0851ac6d",
   "metadata": {},
   "outputs": [],
   "source": [
    "def clean_ext(ext):\n",
    "    if(isinstance(ext, str)):\n",
    "        if '?' in ext:\n",
    "            return ext.split('?')[0]\n",
    "        return ext\n",
    "    else:\n",
    "        return \"\""
   ]
  },
  {
   "cell_type": "code",
   "execution_count": 18,
   "id": "17facee0",
   "metadata": {},
   "outputs": [
    {
     "data": {
      "text/plain": [
       "'exe'"
      ]
     },
     "execution_count": 18,
     "metadata": {},
     "output_type": "execute_result"
    }
   ],
   "source": [
    "clean_ext('exe?id=950942&hash=5')"
   ]
  },
  {
   "cell_type": "code",
   "execution_count": 19,
   "id": "371c2e99",
   "metadata": {},
   "outputs": [],
   "source": [
    "df['ext'] = df['ext'].apply(lambda e: clean_ext(e))"
   ]
  },
  {
   "cell_type": "code",
   "execution_count": 20,
   "id": "0648cf66",
   "metadata": {},
   "outputs": [],
   "source": [
    "df.reset_index(inplace=True)"
   ]
  },
  {
   "cell_type": "code",
   "execution_count": 21,
   "id": "3a200022",
   "metadata": {},
   "outputs": [
    {
     "data": {
      "text/plain": [
       "index                       0\n",
       "url                         0\n",
       "entropy                     0\n",
       "numDigits                   0\n",
       "urlLength                   0\n",
       "numParams                   0\n",
       "hasHttp                     0\n",
       "hasHttps                    0\n",
       "ext                         0\n",
       "num_%20                     0\n",
       "num_@                       0\n",
       "path_length                 0\n",
       "host_length                 0\n",
       "has_port                    0\n",
       "is_encoded                  0\n",
       "num_encoded_char            0\n",
       "number_of_subdirectories    0\n",
       "number_of_periods           0\n",
       "has_client_in_string        0\n",
       "has_admin_in_string         0\n",
       "has_server_in_string        0\n",
       "has_login_in_string         0\n",
       "count_arate                 0\n",
       "count_asterisk              0\n",
       "count_questionmark          0\n",
       "count_plus                  0\n",
       "count_exclamation           0\n",
       "count_hyphen                0\n",
       "count_equal                 0\n",
       "count_tilted                0\n",
       "target                      0\n",
       "dtype: int64"
      ]
     },
     "execution_count": 21,
     "metadata": {},
     "output_type": "execute_result"
    }
   ],
   "source": [
    "df.isna().sum()"
   ]
  },
  {
   "cell_type": "code",
   "execution_count": 129,
   "id": "f8f282e5",
   "metadata": {},
   "outputs": [
    {
     "data": {
      "text/plain": [
       "com     237497\n",
       "html    107268\n",
       "php      75411\n",
       "org      32505\n",
       "htm      32247\n",
       "         ...  \n",
       "ch         247\n",
       "cf         243\n",
       "bme        235\n",
       "htm'       234\n",
       "spc        230\n",
       "Name: ext, Length: 100, dtype: int64"
      ]
     },
     "execution_count": 129,
     "metadata": {},
     "output_type": "execute_result"
    }
   ],
   "source": [
    "df['ext'].value_counts().sort_values(ascending=False)[:100]"
   ]
  },
  {
   "cell_type": "markdown",
   "id": "1a354c7f",
   "metadata": {},
   "source": [
    "### Model Training only on these features"
   ]
  },
  {
   "cell_type": "code",
   "execution_count": 130,
   "id": "6631c500",
   "metadata": {},
   "outputs": [
    {
     "data": {
      "text/plain": [
       "array(['phishing', 'benign', 'defacement', 'malware'], dtype=object)"
      ]
     },
     "execution_count": 130,
     "metadata": {},
     "output_type": "execute_result"
    }
   ],
   "source": [
    "df['target'].unique()"
   ]
  },
  {
   "cell_type": "code",
   "execution_count": 131,
   "id": "60f3ccfe",
   "metadata": {},
   "outputs": [],
   "source": [
    "from sklearn.model_selection import train_test_split, GridSearchCV\n",
    "from sklearn.preprocessing import LabelEncoder"
   ]
  },
  {
   "cell_type": "code",
   "execution_count": 132,
   "id": "d351a2ff",
   "metadata": {},
   "outputs": [],
   "source": [
    "from sklearn.metrics import accuracy_score, classification_report, confusion_matrix"
   ]
  },
  {
   "cell_type": "code",
   "execution_count": 133,
   "id": "3e1f7999",
   "metadata": {},
   "outputs": [
    {
     "name": "stdout",
     "output_type": "stream",
     "text": [
      "Classes: ['benign' 'defacement' 'malware' 'phishing']\n"
     ]
    }
   ],
   "source": [
    "le = LabelEncoder()\n",
    "le.fit(df['target'])\n",
    "print(\"Classes:\", le.classes_)"
   ]
  },
  {
   "cell_type": "code",
   "execution_count": 134,
   "id": "9d810838",
   "metadata": {},
   "outputs": [],
   "source": [
    "df['y'] = le.transform(df['target'])"
   ]
  },
  {
   "cell_type": "code",
   "execution_count": 135,
   "id": "14f61c50",
   "metadata": {},
   "outputs": [],
   "source": [
    "X = df.drop(['url', 'target', 'y', 'ext'], axis=1)\n",
    "y = df['y']"
   ]
  },
  {
   "cell_type": "code",
   "execution_count": 136,
   "id": "c09a6b17",
   "metadata": {},
   "outputs": [],
   "source": [
    "X_train, X_test, y_train, y_test = train_test_split(X, y, test_size=0.2, random_state=42)"
   ]
  },
  {
   "cell_type": "code",
   "execution_count": 137,
   "id": "2237d161",
   "metadata": {},
   "outputs": [
    {
     "data": {
      "text/plain": [
       "((512900, 28), (128225, 28))"
      ]
     },
     "execution_count": 137,
     "metadata": {},
     "output_type": "execute_result"
    }
   ],
   "source": [
    "X_train.shape, X_test.shape"
   ]
  },
  {
   "cell_type": "markdown",
   "id": "498bfd70",
   "metadata": {},
   "source": [
    "Logistic Regression"
   ]
  },
  {
   "cell_type": "code",
   "execution_count": 69,
   "id": "4b00dd46",
   "metadata": {},
   "outputs": [],
   "source": [
    "from sklearn.linear_model import LogisticRegression"
   ]
  },
  {
   "cell_type": "code",
   "execution_count": 58,
   "id": "65f82e6b",
   "metadata": {},
   "outputs": [
    {
     "name": "stderr",
     "output_type": "stream",
     "text": [
      "C:\\Users\\nihal\\Anaconda3\\envs\\gpuenv\\lib\\site-packages\\sklearn\\linear_model\\_logistic.py:814: ConvergenceWarning: lbfgs failed to converge (status=1):\n",
      "STOP: TOTAL NO. of ITERATIONS REACHED LIMIT.\n",
      "\n",
      "Increase the number of iterations (max_iter) or scale the data as shown in:\n",
      "    https://scikit-learn.org/stable/modules/preprocessing.html\n",
      "Please also refer to the documentation for alternative solver options:\n",
      "    https://scikit-learn.org/stable/modules/linear_model.html#logistic-regression\n",
      "  n_iter_i = _check_optimize_result(\n"
     ]
    },
    {
     "data": {
      "text/plain": [
       "LogisticRegression()"
      ]
     },
     "execution_count": 58,
     "metadata": {},
     "output_type": "execute_result"
    }
   ],
   "source": [
    "lr_model = LogisticRegression()\n",
    "lr_model.fit(X_train, y_train)"
   ]
  },
  {
   "cell_type": "code",
   "execution_count": 61,
   "id": "673d6423",
   "metadata": {},
   "outputs": [
    {
     "name": "stdout",
     "output_type": "stream",
     "text": [
      "Accuracy Score: 0.8269682199259115\n",
      "              precision    recall  f1-score   support\n",
      "\n",
      "           0       0.85      0.98      0.91     85691\n",
      "           1       0.83      0.91      0.87     18938\n",
      "           2       0.79      0.57      0.66      4720\n",
      "           3       0.41      0.10      0.16     18876\n",
      "\n",
      "    accuracy                           0.83    128225\n",
      "   macro avg       0.72      0.64      0.65    128225\n",
      "weighted avg       0.78      0.83      0.78    128225\n",
      "\n"
     ]
    }
   ],
   "source": [
    "preds = lr_model.predict(X_test)\n",
    "print(\"Accuracy Score:\", accuracy_score(y_test, preds))\n",
    "print(classification_report(y_test, preds))"
   ]
  },
  {
   "cell_type": "code",
   "execution_count": 67,
   "id": "9a608333",
   "metadata": {},
   "outputs": [
    {
     "data": {
      "text/plain": [
       "<AxesSubplot:>"
      ]
     },
     "execution_count": 67,
     "metadata": {},
     "output_type": "execute_result"
    },
    {
     "data": {
      "image/png": "[encoded data removed]",
      "text/plain": [
       "<Figure size 432x288 with 2 Axes>"
      ]
     },
     "metadata": {
      "needs_background": "light"
     },
     "output_type": "display_data"
    }
   ],
   "source": [
    "sns.heatmap(confusion_matrix(y_test, preds),annot=True, cmap='Blues')"
   ]
  },
  {
   "cell_type": "markdown",
   "id": "38ac9fd9",
   "metadata": {},
   "source": [
    "Training neural network"
   ]
  },
  {
   "cell_type": "code",
   "execution_count": 139,
   "id": "846f92ee",
   "metadata": {},
   "outputs": [],
   "source": [
    "from tensorflow.keras.layers import Dense, Dropout, BatchNormalization, Input\n",
    "from tensorflow.keras.models import Sequential"
   ]
  },
  {
   "cell_type": "code",
   "execution_count": 140,
   "id": "e6541938",
   "metadata": {},
   "outputs": [
    {
     "data": {
      "text/plain": [
       "(512900, 28)"
      ]
     },
     "execution_count": 140,
     "metadata": {},
     "output_type": "execute_result"
    }
   ],
   "source": [
    "X_train.shape"
   ]
  },
  {
   "cell_type": "code",
   "execution_count": 144,
   "id": "6b191045",
   "metadata": {},
   "outputs": [],
   "source": [
    "y_train = to_categorical(y_train)\n",
    "y_test = to_categorical(y_test)"
   ]
  },
  {
   "cell_type": "code",
   "execution_count": 157,
   "id": "0d83f30d",
   "metadata": {},
   "outputs": [
    {
     "name": "stdout",
     "output_type": "stream",
     "text": [
      "Model: \"sequential_11\"\n",
      "_________________________________________________________________\n",
      " Layer (type)                Output Shape              Param #   \n",
      "=================================================================\n",
      " dense_22 (Dense)            (None, 128)               3712      \n",
      "                                                                 \n",
      " dense_23 (Dense)            (None, 64)                8256      \n",
      "                                                                 \n",
      " batch_normalization_4 (Batc  (None, 64)               256       \n",
      " hNormalization)                                                 \n",
      "                                                                 \n",
      " dropout_17 (Dropout)        (None, 64)                0         \n",
      "                                                                 \n",
      " dense_24 (Dense)            (None, 64)                4160      \n",
      "                                                                 \n",
      " dense_25 (Dense)            (None, 64)                4160      \n",
      "                                                                 \n",
      " batch_normalization_5 (Batc  (None, 64)               256       \n",
      " hNormalization)                                                 \n",
      "                                                                 \n",
      " dropout_18 (Dropout)        (None, 64)                0         \n",
      "                                                                 \n",
      " dense_26 (Dense)            (None, 64)                4160      \n",
      "                                                                 \n",
      " dense_27 (Dense)            (None, 32)                2080      \n",
      "                                                                 \n",
      " dense_28 (Dense)            (None, 4)                 132       \n",
      "                                                                 \n",
      "=================================================================\n",
      "Total params: 27,172\n",
      "Trainable params: 26,916\n",
      "Non-trainable params: 256\n",
      "_________________________________________________________________\n"
     ]
    }
   ],
   "source": [
    "model = Sequential()\n",
    "model.add(Input(shape=(28, )))\n",
    "model.add(Dense(128, activation='relu'))\n",
    "model.add(Dense(64, activation='relu'))\n",
    "model.add(BatchNormalization())\n",
    "model.add(Dropout(0.4))\n",
    "\n",
    "model.add(Dense(64, activation='relu'))\n",
    "model.add(Dense(64, activation='relu'))\n",
    "model.add(BatchNormalization())\n",
    "model.add(Dropout(0.3))\n",
    "\n",
    "model.add(Dense(64, activation='relu'))\n",
    "model.add(Dense(32, activation='relu'))\n",
    "model.add(Dense(4, activation='softmax'))\n",
    "model.summary()"
   ]
  },
  {
   "cell_type": "code",
   "execution_count": 158,
   "id": "b91360bc",
   "metadata": {},
   "outputs": [],
   "source": [
    "model.compile(optimizer='adam', loss='categorical_crossentropy', metrics=['accuracy'])"
   ]
  },
  {
   "cell_type": "code",
   "execution_count": 152,
   "id": "0e9e5410",
   "metadata": {},
   "outputs": [],
   "source": [
    "X_train = np.asarray(X_train).astype(np.float32)"
   ]
  },
  {
   "cell_type": "code",
   "execution_count": 159,
   "id": "7bc23e14",
   "metadata": {},
   "outputs": [
    {
     "name": "stdout",
     "output_type": "stream",
     "text": [
      "Epoch 1/5\n",
      "5610/5610 [==============================] - 54s 9ms/step - loss: 0.8750 - accuracy: 0.6677 - val_loss: 0.9360 - val_accuracy: 0.6344\n",
      "Epoch 2/5\n",
      "5610/5610 [==============================] - 52s 9ms/step - loss: 0.8826 - accuracy: 0.6701 - val_loss: 0.9611 - val_accuracy: 0.6659\n",
      "Epoch 3/5\n",
      "5610/5610 [==============================] - 52s 9ms/step - loss: 0.9555 - accuracy: 0.6683 - val_loss: 2.1823 - val_accuracy: 0.4839\n",
      "Epoch 4/5\n",
      "5610/5610 [==============================] - 52s 9ms/step - loss: 0.8732 - accuracy: 0.6704 - val_loss: 0.9797 - val_accuracy: 0.6357\n",
      "Epoch 5/5\n",
      "5610/5610 [==============================] - 52s 9ms/step - loss: 0.8617 - accuracy: 0.6725 - val_loss: 1.0732 - val_accuracy: 0.6659\n"
     ]
    },
    {
     "data": {
      "text/plain": [
       "<keras.callbacks.History at 0x267f1f40f40>"
      ]
     },
     "execution_count": 159,
     "metadata": {},
     "output_type": "execute_result"
    }
   ],
   "source": [
    "model.fit(X_train, y_train, validation_split=0.3, epochs=5, batch_size=64)"
   ]
  },
  {
   "cell_type": "markdown",
   "id": "9d4b26b9",
   "metadata": {},
   "source": [
    "### Word Embeddings with Keras Sequential Models"
   ]
  },
  {
   "cell_type": "code",
   "execution_count": 40,
   "id": "adda4178",
   "metadata": {},
   "outputs": [],
   "source": [
    "X_train, X_test, y_train, y_test = train_test_split(df['url'], y, test_size=0.2, random_state=42)"
   ]
  },
  {
   "cell_type": "code",
   "execution_count": 43,
   "id": "9c99a762",
   "metadata": {},
   "outputs": [
    {
     "data": {
      "text/plain": [
       "(512900,)"
      ]
     },
     "execution_count": 43,
     "metadata": {},
     "output_type": "execute_result"
    }
   ],
   "source": [
    "X_train.shape"
   ]
  },
  {
   "cell_type": "code",
   "execution_count": 31,
   "id": "d1e87040",
   "metadata": {},
   "outputs": [],
   "source": [
    "from tensorflow.keras.utils import pad_sequences\n",
    "from keras.preprocessing.text import one_hot\n",
    "from tensorflow.keras.models import Sequential\n",
    "from tensorflow.keras.layers import Flatten, Dense, Embedding"
   ]
  },
  {
   "cell_type": "code",
   "execution_count": 32,
   "id": "f04bb875",
   "metadata": {},
   "outputs": [],
   "source": [
    "import re"
   ]
  },
  {
   "cell_type": "code",
   "execution_count": 33,
   "id": "00793bfe",
   "metadata": {},
   "outputs": [],
   "source": [
    "split_by_special_character = r'[`!@#$%^&*()_+\\-=\\[\\]{};\\':\"\\\\|,.<>\\/?~]'"
   ]
  },
  {
   "cell_type": "code",
   "execution_count": 49,
   "id": "d3fb2c6a",
   "metadata": {},
   "outputs": [
    {
     "name": "stderr",
     "output_type": "stream",
     "text": [
      "100%|██████████████████████████████████████████████████████████████████████| 512900/512900 [00:04<00:00, 112629.06it/s]\n"
     ]
    }
   ],
   "source": [
    "all_words = []\n",
    "corpus = []\n",
    "for url in tqdm(X_train):\n",
    "    temp = re.split(split_by_special_character, url.lower())\n",
    "    all_words += temp\n",
    "    corpus.append(temp)"
   ]
  },
  {
   "cell_type": "code",
   "execution_count": 50,
   "id": "49b15bde",
   "metadata": {},
   "outputs": [
    {
     "name": "stdout",
     "output_type": "stream",
     "text": [
      "464213\n"
     ]
    }
   ],
   "source": [
    "unique_words = set(all_words)\n",
    "print(len(unique_words))"
   ]
  },
  {
   "cell_type": "code",
   "execution_count": 51,
   "id": "0e16c73f",
   "metadata": {},
   "outputs": [
    {
     "data": {
      "text/plain": [
       "464223"
      ]
     },
     "execution_count": 51,
     "metadata": {},
     "output_type": "execute_result"
    }
   ],
   "source": [
    "VOCAB_LENGTH = len(unique_words) + 10 #Buffer of 10\n",
    "VOCAB_LENGTH"
   ]
  },
  {
   "cell_type": "code",
   "execution_count": 52,
   "id": "9934f0c5",
   "metadata": {},
   "outputs": [
    {
     "data": {
      "text/plain": [
       "[105163, 340859, 267359, 172946, 54881, 437552, 311164, 329070]"
      ]
     },
     "execution_count": 52,
     "metadata": {},
     "output_type": "execute_result"
    }
   ],
   "source": [
    "one_hot(url, VOCAB_LENGTH)"
   ]
  },
  {
   "cell_type": "code",
   "execution_count": 53,
   "id": "dffe9668",
   "metadata": {},
   "outputs": [],
   "source": [
    "embedded_sentences = [one_hot(url, VOCAB_LENGTH) for url in X_train]"
   ]
  },
  {
   "cell_type": "code",
   "execution_count": 66,
   "id": "cc8fb99a",
   "metadata": {},
   "outputs": [],
   "source": [
    "length_long_sentence = 0\n",
    "longest_url = ''\n",
    "for url in X_train:\n",
    "    temp = re.split(split_by_special_character, url.lower())\n",
    "    if(length_long_sentence < len(temp)):\n",
    "        length_long_sentence = len(temp)\n",
    "        longest_url = url"
   ]
  },
  {
   "cell_type": "code",
   "execution_count": 65,
   "id": "29104fc0",
   "metadata": {},
   "outputs": [
    {
     "data": {
      "text/plain": [
       "373"
      ]
     },
     "execution_count": 65,
     "metadata": {},
     "output_type": "execute_result"
    }
   ],
   "source": [
    "length_long_sentence"
   ]
  },
  {
   "cell_type": "code",
   "execution_count": 68,
   "id": "67032721",
   "metadata": {},
   "outputs": [],
   "source": [
    "length_long_sentence = len(re.split(split_by_special_character, longest_url.lower()))"
   ]
  },
  {
   "cell_type": "code",
   "execution_count": 69,
   "id": "9cb146fb",
   "metadata": {},
   "outputs": [
    {
     "data": {
      "text/plain": [
       "373"
      ]
     },
     "execution_count": 69,
     "metadata": {},
     "output_type": "execute_result"
    }
   ],
   "source": [
    "length_long_sentence"
   ]
  },
  {
   "cell_type": "code",
   "execution_count": 70,
   "id": "a344765b",
   "metadata": {},
   "outputs": [],
   "source": [
    "padded_sentences = pad_sequences(embedded_sentences, length_long_sentence, padding='post')"
   ]
  },
  {
   "cell_type": "code",
   "execution_count": 71,
   "id": "db2783a8",
   "metadata": {},
   "outputs": [
    {
     "data": {
      "text/plain": [
       "(512900, 373)"
      ]
     },
     "execution_count": 71,
     "metadata": {},
     "output_type": "execute_result"
    }
   ],
   "source": [
    "padded_sentences.shape"
   ]
  },
  {
   "cell_type": "code",
   "execution_count": 72,
   "id": "570a24fb",
   "metadata": {},
   "outputs": [
    {
     "data": {
      "text/plain": [
       "array([[412274, 359380, 271070, ...,      0,      0,      0],\n",
       "       [ 44076, 336186, 359380, ...,      0,      0,      0],\n",
       "       [ 44076,  93667, 158777, ...,      0,      0,      0],\n",
       "       ...,\n",
       "       [312126, 117189, 382189, ...,      0,      0,      0],\n",
       "       [ 44076, 144253, 359380, ...,      0,      0,      0],\n",
       "       [105163, 340859, 267359, ...,      0,      0,      0]])"
      ]
     },
     "execution_count": 72,
     "metadata": {},
     "output_type": "execute_result"
    }
   ],
   "source": [
    "padded_sentences"
   ]
  },
  {
   "cell_type": "markdown",
   "id": "186c78e9",
   "metadata": {},
   "source": [
    "#### Building a model"
   ]
  },
  {
   "cell_type": "code",
   "execution_count": 94,
   "id": "77812a24",
   "metadata": {},
   "outputs": [],
   "source": [
    "import tensorflow as tf"
   ]
  },
  {
   "cell_type": "code",
   "execution_count": 73,
   "id": "e5274bf1",
   "metadata": {},
   "outputs": [],
   "source": [
    "from tensorflow.keras.utils import to_categorical"
   ]
  },
  {
   "cell_type": "code",
   "execution_count": 86,
   "id": "c92aa8d3",
   "metadata": {},
   "outputs": [],
   "source": [
    "from tensorflow.keras import layers"
   ]
  },
  {
   "cell_type": "code",
   "execution_count": 74,
   "id": "138f9116",
   "metadata": {},
   "outputs": [
    {
     "data": {
      "text/plain": [
       "4"
      ]
     },
     "execution_count": 74,
     "metadata": {},
     "output_type": "execute_result"
    }
   ],
   "source": [
    "df['target'].nunique()"
   ]
  },
  {
   "cell_type": "code",
   "execution_count": 79,
   "id": "7f54c8ef",
   "metadata": {},
   "outputs": [
    {
     "data": {
      "text/plain": [
       "(512900, 373)"
      ]
     },
     "execution_count": 79,
     "metadata": {},
     "output_type": "execute_result"
    }
   ],
   "source": [
    "padded_sentences.shape"
   ]
  },
  {
   "cell_type": "code",
   "execution_count": 84,
   "id": "9aaed108",
   "metadata": {},
   "outputs": [],
   "source": [
    "Y_train = to_categorical(y_train)"
   ]
  },
  {
   "cell_type": "code",
   "execution_count": 97,
   "id": "2e1b39d6",
   "metadata": {},
   "outputs": [],
   "source": [
    "X1_train, X1_test, y1_train, y1_test = train_test_split(padded_sentences, Y_train, random_state=42, test_size=0.3)"
   ]
  },
  {
   "cell_type": "code",
   "execution_count": 113,
   "id": "db2d45fb",
   "metadata": {},
   "outputs": [],
   "source": [
    "X2_train, X3_train, y2_train, y3_train = train_test_split(X1_train, y1_train, random_state=42, test_size=0.5)"
   ]
  },
  {
   "cell_type": "code",
   "execution_count": 114,
   "id": "ee9e99eb",
   "metadata": {},
   "outputs": [
    {
     "data": {
      "text/plain": [
       "((179515, 373), (179515, 373))"
      ]
     },
     "execution_count": 114,
     "metadata": {},
     "output_type": "execute_result"
    }
   ],
   "source": [
    "X2_train.shape, X3_train.shape"
   ]
  },
  {
   "cell_type": "code",
   "execution_count": 115,
   "id": "36f87219",
   "metadata": {},
   "outputs": [
    {
     "name": "stdout",
     "output_type": "stream",
     "text": [
      "Model: \"sequential_8\"\n",
      "_________________________________________________________________\n",
      " Layer (type)                Output Shape              Param #   \n",
      "=================================================================\n",
      " embedding_8 (Embedding)     (None, 373, 10)           4642230   \n",
      "                                                                 \n",
      " dropout_11 (Dropout)        (None, 373, 10)           0         \n",
      "                                                                 \n",
      " global_average_pooling1d_4   (None, 10)               0         \n",
      " (GlobalAveragePooling1D)                                        \n",
      "                                                                 \n",
      " dropout_12 (Dropout)        (None, 10)                0         \n",
      "                                                                 \n",
      " dense_8 (Dense)             (None, 32)                352       \n",
      "                                                                 \n",
      " dense_9 (Dense)             (None, 32)                1056      \n",
      "                                                                 \n",
      " dense_10 (Dense)            (None, 4)                 132       \n",
      "                                                                 \n",
      "=================================================================\n",
      "Total params: 4,643,770\n",
      "Trainable params: 4,643,770\n",
      "Non-trainable params: 0\n",
      "_________________________________________________________________\n"
     ]
    }
   ],
   "source": [
    "model = Sequential()\n",
    "model.add(Embedding(VOCAB_LENGTH, 10, input_length=length_long_sentence))\n",
    "model.add(layers.Dropout(0.4))\n",
    "model.add(layers.GlobalAveragePooling1D())\n",
    "model.add(layers.Dropout(0.2))\n",
    "model.add(Dense(32, activation='relu'))\n",
    "model.add(Dense(32, activation='relu'))\n",
    "model.add(Dense(4, activation='softmax'))\n",
    "\n",
    "model.summary()"
   ]
  },
  {
   "cell_type": "code",
   "execution_count": 116,
   "id": "beeb0878",
   "metadata": {},
   "outputs": [],
   "source": [
    "model.compile(optimizer='adam', loss='categorical_crossentropy', metrics=['accuracy'])"
   ]
  },
  {
   "cell_type": "code",
   "execution_count": 119,
   "id": "dfd4e872",
   "metadata": {
    "scrolled": false
   },
   "outputs": [
    {
     "name": "stdout",
     "output_type": "stream",
     "text": [
      "Epoch 1/5\n",
      "4488/4488 [==============================] - 39s 8ms/step - loss: 0.5653 - accuracy: 0.7915 - val_loss: 0.3374 - val_accuracy: 0.8673\n",
      "Epoch 2/5\n",
      "4488/4488 [==============================] - 37s 8ms/step - loss: 0.3472 - accuracy: 0.8662 - val_loss: 0.3226 - val_accuracy: 0.8740\n",
      "Epoch 3/5\n",
      "4488/4488 [==============================] - 37s 8ms/step - loss: 0.3072 - accuracy: 0.8785 - val_loss: 0.2632 - val_accuracy: 0.9101\n",
      "Epoch 4/5\n",
      "4488/4488 [==============================] - 37s 8ms/step - loss: 0.2736 - accuracy: 0.8940 - val_loss: 0.2408 - val_accuracy: 0.9181\n",
      "Epoch 5/5\n",
      "4488/4488 [==============================] - 38s 8ms/step - loss: 0.2372 - accuracy: 0.9112 - val_loss: 0.2002 - val_accuracy: 0.9291\n"
     ]
    },
    {
     "data": {
      "text/plain": [
       "<keras.callbacks.History at 0x269ac453d30>"
      ]
     },
     "execution_count": 119,
     "metadata": {},
     "output_type": "execute_result"
    }
   ],
   "source": [
    "model.fit(X2_train, y2_train, epochs=5, verbose=1, validation_split=0.2)"
   ]
  },
  {
   "cell_type": "code",
   "execution_count": 120,
   "id": "a0e84966",
   "metadata": {},
   "outputs": [
    {
     "name": "stdout",
     "output_type": "stream",
     "text": [
      "Epoch 1/5\n",
      "4488/4488 [==============================] - 38s 8ms/step - loss: 0.2558 - accuracy: 0.9036 - val_loss: 0.1821 - val_accuracy: 0.9321\n",
      "Epoch 2/5\n",
      "4488/4488 [==============================] - 38s 8ms/step - loss: 0.2297 - accuracy: 0.9125 - val_loss: 0.1705 - val_accuracy: 0.9387\n",
      "Epoch 3/5\n",
      "4488/4488 [==============================] - 37s 8ms/step - loss: 0.2112 - accuracy: 0.9204 - val_loss: 0.1669 - val_accuracy: 0.9410\n",
      "Epoch 4/5\n",
      "4488/4488 [==============================] - 37s 8ms/step - loss: 0.1930 - accuracy: 0.9279 - val_loss: 0.1630 - val_accuracy: 0.9421\n",
      "Epoch 5/5\n",
      "4488/4488 [==============================] - 38s 9ms/step - loss: 0.1804 - accuracy: 0.9325 - val_loss: 0.1624 - val_accuracy: 0.9405\n"
     ]
    },
    {
     "data": {
      "text/plain": [
       "<keras.callbacks.History at 0x269ac49fee0>"
      ]
     },
     "execution_count": 120,
     "metadata": {},
     "output_type": "execute_result"
    }
   ],
   "source": [
    "model.fit(X3_train, y3_train, epochs=5, verbose=1, validation_split=0.2)"
   ]
  },
  {
   "cell_type": "code",
   "execution_count": 121,
   "id": "93c0a1f2",
   "metadata": {},
   "outputs": [
    {
     "name": "stdout",
     "output_type": "stream",
     "text": [
      "4809/4809 [==============================] - 13s 3ms/step - loss: 0.1691 - accuracy: 0.9370\n"
     ]
    },
    {
     "data": {
      "text/plain": [
       "[0.1691291481256485, 0.9369857907295227]"
      ]
     },
     "execution_count": 121,
     "metadata": {},
     "output_type": "execute_result"
    }
   ],
   "source": [
    "model.evaluate(X1_test, y1_test)"
   ]
  },
  {
   "cell_type": "code",
   "execution_count": 122,
   "id": "b929ef37",
   "metadata": {},
   "outputs": [
    {
     "name": "stdout",
     "output_type": "stream",
     "text": [
      "INFO:tensorflow:Assets written to: ../Models/url_clsf_word_embed\\assets\n"
     ]
    }
   ],
   "source": [
    "model.save('../Models/url_clsf_word_embed')"
   ]
  },
  {
   "cell_type": "markdown",
   "id": "726b1169",
   "metadata": {},
   "source": [
    "### References:\n",
    "https://medium.com/nerd-for-tech/url-feature-engineering-and-classification-66c0512fb34d  \n",
    "https://stackabuse.com/python-for-nlp-word-embeddings-for-deep-learning-in-keras/"
   ]
  },
  {
   "cell_type": "code",
   "execution_count": null,
   "id": "ce435f40",
   "metadata": {},
   "outputs": [],
   "source": []
  }
 ],
 "metadata": {
  "kernelspec": {
   "display_name": "Python 3 (ipykernel)",
   "language": "python",
   "name": "python3"
  },
  "language_info": {
   "codemirror_mode": {
    "name": "ipython",
    "version": 3
   },
   "file_extension": ".py",
   "mimetype": "text/x-python",
   "name": "python",
   "nbconvert_exporter": "python",
   "pygments_lexer": "ipython3",
   "version": "3.10.0"
  }
 },
 "nbformat": 4,
 "nbformat_minor": 5
}
