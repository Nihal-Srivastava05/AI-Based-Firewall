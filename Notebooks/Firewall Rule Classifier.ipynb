{
 "cells": [
  {
   "cell_type": "markdown",
   "id": "73fedb1a",
   "metadata": {},
   "source": [
    "# Firewall Rule Classifier"
   ]
  },
  {
   "cell_type": "code",
   "execution_count": 1,
   "id": "97697633",
   "metadata": {},
   "outputs": [],
   "source": [
    "import pandas as pd\n",
    "import numpy as np\n",
    "import matplotlib.pyplot as plt\n",
    "import seaborn as sns"
   ]
  },
  {
   "cell_type": "code",
   "execution_count": 2,
   "id": "9e6c9066",
   "metadata": {},
   "outputs": [],
   "source": [
    "from sklearn.preprocessing import LabelEncoder"
   ]
  },
  {
   "cell_type": "code",
   "execution_count": 27,
   "id": "457a0f95",
   "metadata": {},
   "outputs": [],
   "source": [
    "from scipy import stats\n",
    "import pickle"
   ]
  },
  {
   "cell_type": "code",
   "execution_count": 4,
   "id": "3316ae1b",
   "metadata": {
    "scrolled": true
   },
   "outputs": [
    {
     "data": {
      "text/html": [
       "<div>\n",
       "<style scoped>\n",
       "    .dataframe tbody tr th:only-of-type {\n",
       "        vertical-align: middle;\n",
       "    }\n",
       "\n",
       "    .dataframe tbody tr th {\n",
       "        vertical-align: top;\n",
       "    }\n",
       "\n",
       "    .dataframe thead th {\n",
       "        text-align: right;\n",
       "    }\n",
       "</style>\n",
       "<table border=\"1\" class=\"dataframe\">\n",
       "  <thead>\n",
       "    <tr style=\"text-align: right;\">\n",
       "      <th></th>\n",
       "      <th>Unnamed: 0</th>\n",
       "      <th>Source Port</th>\n",
       "      <th>Destination Port</th>\n",
       "      <th>NAT Source Port</th>\n",
       "      <th>NAT Destination Port</th>\n",
       "      <th>Bytes</th>\n",
       "      <th>Bytes Sent</th>\n",
       "      <th>Bytes Received</th>\n",
       "      <th>Packets</th>\n",
       "      <th>Elapsed Time (sec)</th>\n",
       "      <th>pkts_sent</th>\n",
       "      <th>pkts_received</th>\n",
       "      <th>Class</th>\n",
       "    </tr>\n",
       "  </thead>\n",
       "  <tbody>\n",
       "    <tr>\n",
       "      <th>0</th>\n",
       "      <td>0</td>\n",
       "      <td>33313</td>\n",
       "      <td>443</td>\n",
       "      <td>29395</td>\n",
       "      <td>443</td>\n",
       "      <td>9675</td>\n",
       "      <td>2389</td>\n",
       "      <td>7286</td>\n",
       "      <td>43</td>\n",
       "      <td>143</td>\n",
       "      <td>21</td>\n",
       "      <td>22</td>\n",
       "      <td>allow</td>\n",
       "    </tr>\n",
       "    <tr>\n",
       "      <th>1</th>\n",
       "      <td>1</td>\n",
       "      <td>53871</td>\n",
       "      <td>443</td>\n",
       "      <td>15841</td>\n",
       "      <td>443</td>\n",
       "      <td>7797</td>\n",
       "      <td>1807</td>\n",
       "      <td>5990</td>\n",
       "      <td>15</td>\n",
       "      <td>135</td>\n",
       "      <td>7</td>\n",
       "      <td>8</td>\n",
       "      <td>allow</td>\n",
       "    </tr>\n",
       "    <tr>\n",
       "      <th>2</th>\n",
       "      <td>2</td>\n",
       "      <td>56628</td>\n",
       "      <td>443</td>\n",
       "      <td>13354</td>\n",
       "      <td>443</td>\n",
       "      <td>8240</td>\n",
       "      <td>3521</td>\n",
       "      <td>4719</td>\n",
       "      <td>25</td>\n",
       "      <td>18</td>\n",
       "      <td>15</td>\n",
       "      <td>10</td>\n",
       "      <td>allow</td>\n",
       "    </tr>\n",
       "    <tr>\n",
       "      <th>3</th>\n",
       "      <td>3</td>\n",
       "      <td>50270</td>\n",
       "      <td>445</td>\n",
       "      <td>0</td>\n",
       "      <td>0</td>\n",
       "      <td>70</td>\n",
       "      <td>70</td>\n",
       "      <td>0</td>\n",
       "      <td>1</td>\n",
       "      <td>0</td>\n",
       "      <td>1</td>\n",
       "      <td>0</td>\n",
       "      <td>drop</td>\n",
       "    </tr>\n",
       "    <tr>\n",
       "      <th>4</th>\n",
       "      <td>4</td>\n",
       "      <td>64113</td>\n",
       "      <td>53</td>\n",
       "      <td>33491</td>\n",
       "      <td>53</td>\n",
       "      <td>294</td>\n",
       "      <td>134</td>\n",
       "      <td>160</td>\n",
       "      <td>2</td>\n",
       "      <td>30</td>\n",
       "      <td>1</td>\n",
       "      <td>1</td>\n",
       "      <td>allow</td>\n",
       "    </tr>\n",
       "  </tbody>\n",
       "</table>\n",
       "</div>"
      ],
      "text/plain": [
       "   Unnamed: 0  Source Port  Destination Port  NAT Source Port  \\\n",
       "0           0        33313               443            29395   \n",
       "1           1        53871               443            15841   \n",
       "2           2        56628               443            13354   \n",
       "3           3        50270               445                0   \n",
       "4           4        64113                53            33491   \n",
       "\n",
       "   NAT Destination Port  Bytes  Bytes Sent  Bytes Received  Packets  \\\n",
       "0                   443   9675        2389            7286       43   \n",
       "1                   443   7797        1807            5990       15   \n",
       "2                   443   8240        3521            4719       25   \n",
       "3                     0     70          70               0        1   \n",
       "4                    53    294         134             160        2   \n",
       "\n",
       "   Elapsed Time (sec)  pkts_sent  pkts_received  Class  \n",
       "0                 143         21             22  allow  \n",
       "1                 135          7              8  allow  \n",
       "2                  18         15             10  allow  \n",
       "3                   0          1              0   drop  \n",
       "4                  30          1              1  allow  "
      ]
     },
     "execution_count": 4,
     "metadata": {},
     "output_type": "execute_result"
    }
   ],
   "source": [
    "df = pd.read_csv('../Datasets/Firewall_Rule_Classification.csv')\n",
    "df.head()"
   ]
  },
  {
   "cell_type": "code",
   "execution_count": 5,
   "id": "347cbdc3",
   "metadata": {},
   "outputs": [],
   "source": [
    "df = df.drop(['Unnamed: 0', 'NAT Source Port', 'NAT Destination Port', 'Bytes Sent', 'Bytes Received', 'pkts_sent', 'pkts_received'], axis=1)"
   ]
  },
  {
   "cell_type": "code",
   "execution_count": 6,
   "id": "79601f2d",
   "metadata": {},
   "outputs": [
    {
     "name": "stdout",
     "output_type": "stream",
     "text": [
      "<class 'pandas.core.frame.DataFrame'>\n",
      "RangeIndex: 262128 entries, 0 to 262127\n",
      "Data columns (total 6 columns):\n",
      " #   Column              Non-Null Count   Dtype \n",
      "---  ------              --------------   ----- \n",
      " 0   Source Port         262128 non-null  int64 \n",
      " 1   Destination Port    262128 non-null  int64 \n",
      " 2   Bytes               262128 non-null  int64 \n",
      " 3   Packets             262128 non-null  int64 \n",
      " 4   Elapsed Time (sec)  262128 non-null  int64 \n",
      " 5   Class               262128 non-null  object\n",
      "dtypes: int64(5), object(1)\n",
      "memory usage: 12.0+ MB\n"
     ]
    }
   ],
   "source": [
    "df.info()"
   ]
  },
  {
   "cell_type": "code",
   "execution_count": 7,
   "id": "218b5a9a",
   "metadata": {},
   "outputs": [
    {
     "data": {
      "text/plain": [
       "allow         150314\n",
       "deny           60053\n",
       "drop           51539\n",
       "reset-both       222\n",
       "Name: Class, dtype: int64"
      ]
     },
     "execution_count": 7,
     "metadata": {},
     "output_type": "execute_result"
    }
   ],
   "source": [
    "df['Class'].value_counts()"
   ]
  },
  {
   "cell_type": "code",
   "execution_count": 8,
   "id": "b28582a2",
   "metadata": {},
   "outputs": [],
   "source": [
    "le = LabelEncoder()\n",
    "le.fit(df['Class'])\n",
    "encoded_labels = le.transform(df['Class'])"
   ]
  },
  {
   "cell_type": "code",
   "execution_count": 9,
   "id": "d73f858c",
   "metadata": {},
   "outputs": [
    {
     "data": {
      "text/plain": [
       "array([0, 0, 0, ..., 2, 2, 1])"
      ]
     },
     "execution_count": 9,
     "metadata": {},
     "output_type": "execute_result"
    }
   ],
   "source": [
    "encoded_labels"
   ]
  },
  {
   "cell_type": "code",
   "execution_count": 10,
   "id": "1060d977",
   "metadata": {},
   "outputs": [],
   "source": [
    "df['Target'] = df['Class'].apply(lambda x: 0 if x == 'allow' else 1)"
   ]
  },
  {
   "cell_type": "code",
   "execution_count": 11,
   "id": "55f4d4d1",
   "metadata": {},
   "outputs": [
    {
     "data": {
      "text/html": [
       "<div>\n",
       "<style scoped>\n",
       "    .dataframe tbody tr th:only-of-type {\n",
       "        vertical-align: middle;\n",
       "    }\n",
       "\n",
       "    .dataframe tbody tr th {\n",
       "        vertical-align: top;\n",
       "    }\n",
       "\n",
       "    .dataframe thead th {\n",
       "        text-align: right;\n",
       "    }\n",
       "</style>\n",
       "<table border=\"1\" class=\"dataframe\">\n",
       "  <thead>\n",
       "    <tr style=\"text-align: right;\">\n",
       "      <th></th>\n",
       "      <th>Source Port</th>\n",
       "      <th>Destination Port</th>\n",
       "      <th>Bytes</th>\n",
       "      <th>Packets</th>\n",
       "      <th>Elapsed Time (sec)</th>\n",
       "      <th>Target</th>\n",
       "    </tr>\n",
       "  </thead>\n",
       "  <tbody>\n",
       "    <tr>\n",
       "      <th>count</th>\n",
       "      <td>262128.000000</td>\n",
       "      <td>262128.000000</td>\n",
       "      <td>2.621280e+05</td>\n",
       "      <td>2.621280e+05</td>\n",
       "      <td>262128.000000</td>\n",
       "      <td>262128.000000</td>\n",
       "    </tr>\n",
       "    <tr>\n",
       "      <th>mean</th>\n",
       "      <td>49351.107871</td>\n",
       "      <td>10623.147405</td>\n",
       "      <td>1.031905e+05</td>\n",
       "      <td>1.058449e+02</td>\n",
       "      <td>65.457692</td>\n",
       "      <td>0.426563</td>\n",
       "    </tr>\n",
       "    <tr>\n",
       "      <th>std</th>\n",
       "      <td>15259.968678</td>\n",
       "      <td>18509.668217</td>\n",
       "      <td>6.107068e+06</td>\n",
       "      <td>5.311349e+03</td>\n",
       "      <td>299.143576</td>\n",
       "      <td>0.494578</td>\n",
       "    </tr>\n",
       "    <tr>\n",
       "      <th>min</th>\n",
       "      <td>0.000000</td>\n",
       "      <td>0.000000</td>\n",
       "      <td>6.000000e+01</td>\n",
       "      <td>1.000000e+00</td>\n",
       "      <td>0.000000</td>\n",
       "      <td>0.000000</td>\n",
       "    </tr>\n",
       "    <tr>\n",
       "      <th>25%</th>\n",
       "      <td>49174.000000</td>\n",
       "      <td>80.000000</td>\n",
       "      <td>6.600000e+01</td>\n",
       "      <td>1.000000e+00</td>\n",
       "      <td>0.000000</td>\n",
       "      <td>0.000000</td>\n",
       "    </tr>\n",
       "    <tr>\n",
       "      <th>50%</th>\n",
       "      <td>53763.000000</td>\n",
       "      <td>445.000000</td>\n",
       "      <td>1.680000e+02</td>\n",
       "      <td>2.000000e+00</td>\n",
       "      <td>15.000000</td>\n",
       "      <td>0.000000</td>\n",
       "    </tr>\n",
       "    <tr>\n",
       "      <th>75%</th>\n",
       "      <td>58638.000000</td>\n",
       "      <td>15000.000000</td>\n",
       "      <td>7.540000e+02</td>\n",
       "      <td>6.000000e+00</td>\n",
       "      <td>30.000000</td>\n",
       "      <td>1.000000</td>\n",
       "    </tr>\n",
       "    <tr>\n",
       "      <th>max</th>\n",
       "      <td>65534.000000</td>\n",
       "      <td>65535.000000</td>\n",
       "      <td>1.269359e+09</td>\n",
       "      <td>1.036116e+06</td>\n",
       "      <td>10824.000000</td>\n",
       "      <td>1.000000</td>\n",
       "    </tr>\n",
       "  </tbody>\n",
       "</table>\n",
       "</div>"
      ],
      "text/plain": [
       "         Source Port  Destination Port         Bytes       Packets  \\\n",
       "count  262128.000000     262128.000000  2.621280e+05  2.621280e+05   \n",
       "mean    49351.107871      10623.147405  1.031905e+05  1.058449e+02   \n",
       "std     15259.968678      18509.668217  6.107068e+06  5.311349e+03   \n",
       "min         0.000000          0.000000  6.000000e+01  1.000000e+00   \n",
       "25%     49174.000000         80.000000  6.600000e+01  1.000000e+00   \n",
       "50%     53763.000000        445.000000  1.680000e+02  2.000000e+00   \n",
       "75%     58638.000000      15000.000000  7.540000e+02  6.000000e+00   \n",
       "max     65534.000000      65535.000000  1.269359e+09  1.036116e+06   \n",
       "\n",
       "       Elapsed Time (sec)         Target  \n",
       "count       262128.000000  262128.000000  \n",
       "mean            65.457692       0.426563  \n",
       "std            299.143576       0.494578  \n",
       "min              0.000000       0.000000  \n",
       "25%              0.000000       0.000000  \n",
       "50%             15.000000       0.000000  \n",
       "75%             30.000000       1.000000  \n",
       "max          10824.000000       1.000000  "
      ]
     },
     "execution_count": 11,
     "metadata": {},
     "output_type": "execute_result"
    }
   ],
   "source": [
    "df.describe()"
   ]
  },
  {
   "cell_type": "code",
   "execution_count": 12,
   "id": "9cd233ee",
   "metadata": {},
   "outputs": [
    {
     "data": {
      "text/plain": [
       "0    150314\n",
       "1    111814\n",
       "Name: Target, dtype: int64"
      ]
     },
     "execution_count": 12,
     "metadata": {},
     "output_type": "execute_result"
    }
   ],
   "source": [
    "df['Target'].value_counts()"
   ]
  },
  {
   "cell_type": "code",
   "execution_count": 13,
   "id": "c52566e9",
   "metadata": {},
   "outputs": [
    {
     "data": {
      "text/plain": [
       "Source Port           0\n",
       "Destination Port      0\n",
       "Bytes                 0\n",
       "Packets               0\n",
       "Elapsed Time (sec)    0\n",
       "Class                 0\n",
       "Target                0\n",
       "dtype: int64"
      ]
     },
     "execution_count": 13,
     "metadata": {},
     "output_type": "execute_result"
    }
   ],
   "source": [
    "df.isna().sum()"
   ]
  },
  {
   "cell_type": "code",
   "execution_count": 14,
   "id": "45404856",
   "metadata": {},
   "outputs": [
    {
     "data": {
      "text/plain": [
       "<AxesSubplot:>"
      ]
     },
     "execution_count": 14,
     "metadata": {},
     "output_type": "execute_result"
    },
    {
     "data": {
      "image/png": "[encoded data removed]",
      "text/plain": [
       "<Figure size 432x288 with 2 Axes>"
      ]
     },
     "metadata": {
      "needs_background": "light"
     },
     "output_type": "display_data"
    }
   ],
   "source": [
    "sns.heatmap(df.corr(), annot=True, cmap='YlGnBu')"
   ]
  },
  {
   "cell_type": "markdown",
   "id": "7fb0b840",
   "metadata": {},
   "source": [
    "## Visulizations"
   ]
  },
  {
   "cell_type": "code",
   "execution_count": 15,
   "id": "61489cd8",
   "metadata": {},
   "outputs": [
    {
     "data": {
      "text/plain": [
       "0         0\n",
       "1         0\n",
       "2         0\n",
       "3         1\n",
       "4         0\n",
       "         ..\n",
       "262123    1\n",
       "262124    1\n",
       "262125    1\n",
       "262126    1\n",
       "262127    1\n",
       "Name: Target, Length: 262128, dtype: int64"
      ]
     },
     "execution_count": 15,
     "metadata": {},
     "output_type": "execute_result"
    }
   ],
   "source": [
    "df['Target']"
   ]
  },
  {
   "cell_type": "code",
   "execution_count": 16,
   "id": "e9e56d71",
   "metadata": {},
   "outputs": [
    {
     "data": {
      "text/plain": [
       "0    569\n",
       "1    431\n",
       "Name: Target, dtype: int64"
      ]
     },
     "execution_count": 16,
     "metadata": {},
     "output_type": "execute_result"
    }
   ],
   "source": [
    "df['Target'][:1000].value_counts()"
   ]
  },
  {
   "cell_type": "code",
   "execution_count": 17,
   "id": "9a23aeef",
   "metadata": {},
   "outputs": [
    {
     "data": {
      "text/plain": [
       "(-2000000.0, 10000000.0)"
      ]
     },
     "execution_count": 17,
     "metadata": {},
     "output_type": "execute_result"
    },
    {
     "data": {
      "image/png": "[encoded data removed]",
      "text/plain": [
       "<Figure size 432x288 with 1 Axes>"
      ]
     },
     "metadata": {
      "needs_background": "light"
     },
     "output_type": "display_data"
    }
   ],
   "source": [
    "sns.scatterplot(x='Bytes', y='Elapsed Time (sec)', hue='Target', data=df.iloc[:5000])\n",
    "plt.xlim(-0.2e7, 1e7)"
   ]
  },
  {
   "cell_type": "markdown",
   "id": "213433f6",
   "metadata": {},
   "source": [
    "## Train Test Split"
   ]
  },
  {
   "cell_type": "code",
   "execution_count": 18,
   "id": "77044807",
   "metadata": {},
   "outputs": [],
   "source": [
    "from sklearn.model_selection import train_test_split"
   ]
  },
  {
   "cell_type": "code",
   "execution_count": 19,
   "id": "395a7703",
   "metadata": {},
   "outputs": [],
   "source": [
    "X = df.drop(['Class', 'Target'], axis=1)\n",
    "y = df['Target']"
   ]
  },
  {
   "cell_type": "code",
   "execution_count": 20,
   "id": "0cb7f960",
   "metadata": {},
   "outputs": [
    {
     "data": {
      "text/plain": [
       "262128"
      ]
     },
     "execution_count": 20,
     "metadata": {},
     "output_type": "execute_result"
    }
   ],
   "source": [
    "len(y)"
   ]
  },
  {
   "cell_type": "code",
   "execution_count": 21,
   "id": "5d4719ac",
   "metadata": {},
   "outputs": [],
   "source": [
    "X_train, X_test, y_train, y_test = train_test_split(X, y, test_size=0.3, random_state=101)"
   ]
  },
  {
   "cell_type": "code",
   "execution_count": 22,
   "id": "35ef3331",
   "metadata": {},
   "outputs": [
    {
     "data": {
      "text/plain": [
       "(183489, 78639)"
      ]
     },
     "execution_count": 22,
     "metadata": {},
     "output_type": "execute_result"
    }
   ],
   "source": [
    "len(y_train), len(y_test)"
   ]
  },
  {
   "cell_type": "markdown",
   "id": "6a72e503",
   "metadata": {},
   "source": [
    "### Model Training"
   ]
  },
  {
   "cell_type": "code",
   "execution_count": 23,
   "id": "6ce8fb6e",
   "metadata": {},
   "outputs": [],
   "source": [
    "from sklearn.linear_model import LogisticRegression\n",
    "from sklearn.ensemble import RandomForestClassifier\n",
    "from sklearn.svm import SVC\n",
    "from sklearn.neighbors import KNeighborsClassifier"
   ]
  },
  {
   "cell_type": "code",
   "execution_count": 24,
   "id": "478ecbd6",
   "metadata": {},
   "outputs": [],
   "source": [
    "from sklearn.metrics import accuracy_score, classification_report, confusion_matrix, plot_confusion_matrix, plot_roc_curve"
   ]
  },
  {
   "cell_type": "markdown",
   "id": "437ca80c",
   "metadata": {},
   "source": [
    "### BASE MODELS"
   ]
  },
  {
   "cell_type": "code",
   "execution_count": 43,
   "id": "4f69863f",
   "metadata": {},
   "outputs": [],
   "source": [
    "def base_model_prediction(model_class):\n",
    "    model = model_class()\n",
    "    model.fit(X_train, y_train)\n",
    "    predictions = model.predict(X_test)\n",
    "    acc = accuracy_score(y_test, predictions)\n",
    "    classifi_rep = classification_report(y_test, predictions)\n",
    "    cf_mat = confusion_matrix(y_test, predictions)\n",
    "    \n",
    "    return [acc, classifi_rep, cf_mat]"
   ]
  },
  {
   "cell_type": "markdown",
   "id": "faff2773",
   "metadata": {},
   "source": [
    "Logistic Regression"
   ]
  },
  {
   "cell_type": "code",
   "execution_count": 53,
   "id": "06fd3246",
   "metadata": {},
   "outputs": [
    {
     "name": "stderr",
     "output_type": "stream",
     "text": [
      "C:\\Users\\nihal\\Anaconda3\\envs\\MLProjects\\lib\\site-packages\\sklearn\\linear_model\\_logistic.py:814: ConvergenceWarning: lbfgs failed to converge (status=1):\n",
      "STOP: TOTAL NO. of ITERATIONS REACHED LIMIT.\n",
      "\n",
      "Increase the number of iterations (max_iter) or scale the data as shown in:\n",
      "    https://scikit-learn.org/stable/modules/preprocessing.html\n",
      "Please also refer to the documentation for alternative solver options:\n",
      "    https://scikit-learn.org/stable/modules/linear_model.html#logistic-regression\n",
      "  n_iter_i = _check_optimize_result(\n"
     ]
    }
   ],
   "source": [
    "logistic_reg_res = base_model_prediction(LogisticRegression)"
   ]
  },
  {
   "cell_type": "code",
   "execution_count": 54,
   "id": "ab34b463",
   "metadata": {},
   "outputs": [
    {
     "name": "stdout",
     "output_type": "stream",
     "text": [
      "Accuracy Obtained:  0.9990844237592035\n"
     ]
    }
   ],
   "source": [
    "print(\"Accuracy Obtained: \", logistic_reg_res[0])"
   ]
  },
  {
   "cell_type": "code",
   "execution_count": 56,
   "id": "4add2800",
   "metadata": {},
   "outputs": [
    {
     "name": "stdout",
     "output_type": "stream",
     "text": [
      "              precision    recall  f1-score   support\n",
      "\n",
      "           0       1.00      1.00      1.00     45177\n",
      "           1       1.00      1.00      1.00     33462\n",
      "\n",
      "    accuracy                           1.00     78639\n",
      "   macro avg       1.00      1.00      1.00     78639\n",
      "weighted avg       1.00      1.00      1.00     78639\n",
      "\n"
     ]
    }
   ],
   "source": [
    "print(logistic_reg_res[1])"
   ]
  },
  {
   "cell_type": "code",
   "execution_count": 61,
   "id": "ad3d1df6",
   "metadata": {},
   "outputs": [
    {
     "data": {
      "text/plain": [
       "array([[45137,    40],\n",
       "       [   32, 33430]], dtype=int64)"
      ]
     },
     "execution_count": 61,
     "metadata": {},
     "output_type": "execute_result"
    }
   ],
   "source": [
    "logistic_reg_res[2]"
   ]
  },
  {
   "cell_type": "markdown",
   "id": "fdb1eb82",
   "metadata": {},
   "source": [
    "Random Forest Classifier"
   ]
  },
  {
   "cell_type": "code",
   "execution_count": 63,
   "id": "1fe5c276",
   "metadata": {},
   "outputs": [],
   "source": [
    "rf_results = base_model_prediction(RandomForestClassifier)"
   ]
  },
  {
   "cell_type": "code",
   "execution_count": 64,
   "id": "eac9ec61",
   "metadata": {},
   "outputs": [
    {
     "name": "stdout",
     "output_type": "stream",
     "text": [
      "Accuracy Obtained:  0.9998219712865117\n"
     ]
    }
   ],
   "source": [
    "print(\"Accuracy Obtained: \", rf_results[0])"
   ]
  },
  {
   "cell_type": "code",
   "execution_count": 65,
   "id": "fa4dfbdf",
   "metadata": {},
   "outputs": [
    {
     "name": "stdout",
     "output_type": "stream",
     "text": [
      "              precision    recall  f1-score   support\n",
      "\n",
      "           0       1.00      1.00      1.00     45177\n",
      "           1       1.00      1.00      1.00     33462\n",
      "\n",
      "    accuracy                           1.00     78639\n",
      "   macro avg       1.00      1.00      1.00     78639\n",
      "weighted avg       1.00      1.00      1.00     78639\n",
      "\n"
     ]
    }
   ],
   "source": [
    "print(rf_results[1])"
   ]
  },
  {
   "cell_type": "code",
   "execution_count": 66,
   "id": "34058a37",
   "metadata": {},
   "outputs": [
    {
     "data": {
      "text/plain": [
       "array([[45164,    13],\n",
       "       [    1, 33461]], dtype=int64)"
      ]
     },
     "execution_count": 66,
     "metadata": {},
     "output_type": "execute_result"
    }
   ],
   "source": [
    "rf_results[2]"
   ]
  },
  {
   "cell_type": "code",
   "execution_count": 4,
   "id": "c09c438d",
   "metadata": {},
   "outputs": [
    {
     "data": {
      "text/plain": [
       "<AxesSubplot:>"
      ]
     },
     "execution_count": 4,
     "metadata": {},
     "output_type": "execute_result"
    },
    {
     "data": {
      "image/png": "[encoded data removed]",
      "text/plain": [
       "<Figure size 432x288 with 2 Axes>"
      ]
     },
     "metadata": {
      "needs_background": "light"
     },
     "output_type": "display_data"
    }
   ],
   "source": [
    "sns.heatmap([[45164, 13],[1, 33461]], annot=True, cmap='Blues')"
   ]
  },
  {
   "cell_type": "markdown",
   "id": "1d6a192e",
   "metadata": {},
   "source": [
    "KNN"
   ]
  },
  {
   "cell_type": "code",
   "execution_count": 24,
   "id": "7f18efbd",
   "metadata": {},
   "outputs": [],
   "source": [
    "knn_res = base_model_prediction(KNeighborsClassifier)"
   ]
  },
  {
   "cell_type": "code",
   "execution_count": 25,
   "id": "0e51ec4a",
   "metadata": {},
   "outputs": [
    {
     "name": "stdout",
     "output_type": "stream",
     "text": [
      "Accuracy Score: 0.9939215910680451\n"
     ]
    }
   ],
   "source": [
    "print(\"Accuracy Score:\", knn_res[0])"
   ]
  },
  {
   "cell_type": "code",
   "execution_count": 26,
   "id": "37dc2c08",
   "metadata": {},
   "outputs": [
    {
     "name": "stdout",
     "output_type": "stream",
     "text": [
      "              precision    recall  f1-score   support\n",
      "\n",
      "           0       1.00      0.99      0.99     45177\n",
      "           1       0.99      1.00      0.99     33462\n",
      "\n",
      "    accuracy                           0.99     78639\n",
      "   macro avg       0.99      0.99      0.99     78639\n",
      "weighted avg       0.99      0.99      0.99     78639\n",
      "\n"
     ]
    }
   ],
   "source": [
    "print(knn_res[1])"
   ]
  },
  {
   "cell_type": "code",
   "execution_count": 27,
   "id": "a03e6fb3",
   "metadata": {},
   "outputs": [
    {
     "data": {
      "text/plain": [
       "array([[44858,   319],\n",
       "       [  159, 33303]], dtype=int64)"
      ]
     },
     "execution_count": 27,
     "metadata": {},
     "output_type": "execute_result"
    }
   ],
   "source": [
    "knn_res[2]"
   ]
  },
  {
   "cell_type": "markdown",
   "id": "d80e6543",
   "metadata": {},
   "source": [
    "## Best Model Training"
   ]
  },
  {
   "cell_type": "markdown",
   "id": "579d09e7",
   "metadata": {},
   "source": [
    "Train on Full Data"
   ]
  },
  {
   "cell_type": "code",
   "execution_count": 26,
   "id": "9806e6da",
   "metadata": {},
   "outputs": [
    {
     "data": {
      "text/plain": [
       "RandomForestClassifier()"
      ]
     },
     "execution_count": 26,
     "metadata": {},
     "output_type": "execute_result"
    }
   ],
   "source": [
    "best_base_model = RandomForestClassifier()\n",
    "best_base_model.fit(X, y)"
   ]
  },
  {
   "cell_type": "code",
   "execution_count": 29,
   "id": "872d5ce0",
   "metadata": {},
   "outputs": [],
   "source": [
    "filename = '../Models/random_forest_base.pkl'\n",
    "pickle.dump(best_base_model, open(filename, 'wb'))"
   ]
  },
  {
   "cell_type": "markdown",
   "id": "648989d9",
   "metadata": {},
   "source": [
    "## Deep Learning"
   ]
  },
  {
   "cell_type": "code",
   "execution_count": 45,
   "id": "78768259",
   "metadata": {},
   "outputs": [],
   "source": [
    "import tensorflow as tf\n",
    "from tensorflow.keras.models import Sequential\n",
    "from tensorflow.keras.layers import Dense, BatchNormalization, Dropout"
   ]
  },
  {
   "cell_type": "code",
   "execution_count": 53,
   "id": "8a1a3f83",
   "metadata": {},
   "outputs": [],
   "source": [
    "from tensorflow.keras.utils import to_categorical"
   ]
  },
  {
   "cell_type": "code",
   "execution_count": 55,
   "id": "a96a2381",
   "metadata": {},
   "outputs": [],
   "source": [
    "y_train = to_categorical(y_train)"
   ]
  },
  {
   "cell_type": "code",
   "execution_count": 56,
   "id": "7cc5d427",
   "metadata": {
    "scrolled": true
   },
   "outputs": [
    {
     "data": {
      "text/plain": [
       "(183489, 5)"
      ]
     },
     "execution_count": 56,
     "metadata": {},
     "output_type": "execute_result"
    }
   ],
   "source": [
    "X_train.shape"
   ]
  },
  {
   "cell_type": "code",
   "execution_count": 57,
   "id": "f9635044",
   "metadata": {},
   "outputs": [
    {
     "data": {
      "text/plain": [
       "(183489, 2)"
      ]
     },
     "execution_count": 57,
     "metadata": {},
     "output_type": "execute_result"
    }
   ],
   "source": [
    "y_train.shape"
   ]
  },
  {
   "cell_type": "code",
   "execution_count": 61,
   "id": "ce4ac623",
   "metadata": {},
   "outputs": [
    {
     "name": "stdout",
     "output_type": "stream",
     "text": [
      "Model: \"sequential_3\"\n",
      "_________________________________________________________________\n",
      " Layer (type)                Output Shape              Param #   \n",
      "=================================================================\n",
      " dense_9 (Dense)             (None, 64)                384       \n",
      "                                                                 \n",
      " dropout_6 (Dropout)         (None, 64)                0         \n",
      "                                                                 \n",
      " batch_normalization_6 (Batc  (None, 64)               256       \n",
      " hNormalization)                                                 \n",
      "                                                                 \n",
      " dense_10 (Dense)            (None, 64)                4160      \n",
      "                                                                 \n",
      " dropout_7 (Dropout)         (None, 64)                0         \n",
      "                                                                 \n",
      " batch_normalization_7 (Batc  (None, 64)               256       \n",
      " hNormalization)                                                 \n",
      "                                                                 \n",
      " dense_11 (Dense)            (None, 32)                2080      \n",
      "                                                                 \n",
      " dropout_8 (Dropout)         (None, 32)                0         \n",
      "                                                                 \n",
      " batch_normalization_8 (Batc  (None, 32)               128       \n",
      " hNormalization)                                                 \n",
      "                                                                 \n",
      " dense_12 (Dense)            (None, 2)                 66        \n",
      "                                                                 \n",
      "=================================================================\n",
      "Total params: 7,330\n",
      "Trainable params: 7,010\n",
      "Non-trainable params: 320\n",
      "_________________________________________________________________\n"
     ]
    }
   ],
   "source": [
    "model = Sequential()\n",
    "model.add(Dense(64, input_shape=(5,), activation='relu'))\n",
    "model.add(Dropout(0.4))\n",
    "model.add(BatchNormalization())\n",
    "model.add(Dense(64, activation='relu'))\n",
    "model.add(Dropout(0.3))\n",
    "model.add(BatchNormalization())\n",
    "model.add(Dense(32, activation='relu'))\n",
    "model.add(Dropout(0.25))\n",
    "model.add(BatchNormalization())\n",
    "\n",
    "model.add(Dense(2, activation='softmax'))\n",
    "model.summary()"
   ]
  },
  {
   "cell_type": "code",
   "execution_count": 62,
   "id": "f55f1f15",
   "metadata": {},
   "outputs": [],
   "source": [
    "model.compile(optimizer='adam', loss='binary_crossentropy', metrics=['accuracy'])"
   ]
  },
  {
   "cell_type": "code",
   "execution_count": 63,
   "id": "46ae8778",
   "metadata": {},
   "outputs": [
    {
     "name": "stdout",
     "output_type": "stream",
     "text": [
      "Epoch 1/25\n",
      "4588/4588 [==============================] - 46s 10ms/step - loss: 0.4661 - accuracy: 0.7600 - val_loss: 1.1467 - val_accuracy: 0.6076\n",
      "Epoch 2/25\n",
      "4588/4588 [==============================] - 45s 10ms/step - loss: 0.4619 - accuracy: 0.7470 - val_loss: 1.7466 - val_accuracy: 0.5770\n",
      "Epoch 3/25\n",
      "4588/4588 [==============================] - 46s 10ms/step - loss: 0.4158 - accuracy: 0.7845 - val_loss: 1.9507 - val_accuracy: 0.5785\n",
      "Epoch 4/25\n",
      "4588/4588 [==============================] - 45s 10ms/step - loss: 0.4331 - accuracy: 0.7725 - val_loss: 1.6953 - val_accuracy: 0.5835\n",
      "Epoch 5/25\n",
      "4588/4588 [==============================] - 44s 10ms/step - loss: 0.4009 - accuracy: 0.8006 - val_loss: 2.1738 - val_accuracy: 0.5791\n",
      "Epoch 6/25\n",
      "4588/4588 [==============================] - 45s 10ms/step - loss: 0.3821 - accuracy: 0.8182 - val_loss: 2.0377 - val_accuracy: 0.5749\n",
      "Epoch 7/25\n",
      "4588/4588 [==============================] - 45s 10ms/step - loss: 0.3788 - accuracy: 0.8189 - val_loss: 2.1440 - val_accuracy: 0.5752\n",
      "Epoch 8/25\n",
      "4588/4588 [==============================] - 42s 9ms/step - loss: 0.3611 - accuracy: 0.8350 - val_loss: 2.2289 - val_accuracy: 0.5727\n",
      "Epoch 9/25\n",
      "4588/4588 [==============================] - 42s 9ms/step - loss: 0.3166 - accuracy: 0.8665 - val_loss: 2.0623 - val_accuracy: 0.5746\n",
      "Epoch 10/25\n",
      "4588/4588 [==============================] - 44s 9ms/step - loss: 0.3312 - accuracy: 0.8568 - val_loss: 1.9750 - val_accuracy: 0.5727\n",
      "Epoch 11/25\n",
      "4588/4588 [==============================] - 43s 9ms/step - loss: 0.3363 - accuracy: 0.8536 - val_loss: 2.1792 - val_accuracy: 0.5727\n",
      "Epoch 12/25\n",
      "4588/4588 [==============================] - 40s 9ms/step - loss: 0.3205 - accuracy: 0.8628 - val_loss: 2.1271 - val_accuracy: 0.5727\n",
      "Epoch 13/25\n",
      "4588/4588 [==============================] - 41s 9ms/step - loss: 0.3171 - accuracy: 0.8653 - val_loss: 2.1067 - val_accuracy: 0.5727\n",
      "Epoch 14/25\n",
      "4588/4588 [==============================] - 43s 9ms/step - loss: 0.3126 - accuracy: 0.8690 - val_loss: 2.1941 - val_accuracy: 0.5727\n",
      "Epoch 15/25\n",
      "4588/4588 [==============================] - 44s 10ms/step - loss: 0.3124 - accuracy: 0.8694 - val_loss: 1.5484 - val_accuracy: 0.5750\n",
      "Epoch 16/25\n",
      "4588/4588 [==============================] - 45s 10ms/step - loss: 0.2753 - accuracy: 0.8934 - val_loss: 1.9851 - val_accuracy: 0.5740\n",
      "Epoch 17/25\n",
      "4588/4588 [==============================] - 44s 10ms/step - loss: 0.2937 - accuracy: 0.8817 - val_loss: 1.8457 - val_accuracy: 0.5727\n",
      "Epoch 18/25\n",
      "4588/4588 [==============================] - 42s 9ms/step - loss: 0.2689 - accuracy: 0.8979 - val_loss: 2.1930 - val_accuracy: 0.5727\n",
      "Epoch 19/25\n",
      "4588/4588 [==============================] - 42s 9ms/step - loss: 0.2833 - accuracy: 0.8906 - val_loss: 2.2941 - val_accuracy: 0.5727\n",
      "Epoch 20/25\n",
      "4588/4588 [==============================] - 43s 9ms/step - loss: 0.2638 - accuracy: 0.9001 - val_loss: 2.0664 - val_accuracy: 0.5727\n",
      "Epoch 21/25\n",
      "4588/4588 [==============================] - 44s 10ms/step - loss: 0.2893 - accuracy: 0.8844 - val_loss: 1.6348 - val_accuracy: 0.5787\n",
      "Epoch 22/25\n",
      "4588/4588 [==============================] - 44s 10ms/step - loss: 0.2689 - accuracy: 0.8982 - val_loss: 2.1433 - val_accuracy: 0.5727\n",
      "Epoch 23/25\n",
      "4588/4588 [==============================] - 45s 10ms/step - loss: 0.2568 - accuracy: 0.9041 - val_loss: 2.1602 - val_accuracy: 0.5727\n",
      "Epoch 24/25\n",
      "4588/4588 [==============================] - 46s 10ms/step - loss: 0.2314 - accuracy: 0.9186 - val_loss: 2.0286 - val_accuracy: 0.5755\n",
      "Epoch 25/25\n",
      "4588/4588 [==============================] - 47s 10ms/step - loss: 0.2260 - accuracy: 0.9204 - val_loss: 2.0560 - val_accuracy: 0.5727\n"
     ]
    },
    {
     "data": {
      "text/plain": [
       "<keras.callbacks.History at 0x1c7264e8280>"
      ]
     },
     "execution_count": 63,
     "metadata": {},
     "output_type": "execute_result"
    }
   ],
   "source": [
    "model.fit(X_train, y_train, validation_split=0.2, epochs=25, batch_size=32)"
   ]
  },
  {
   "cell_type": "code",
   "execution_count": null,
   "id": "6c806697",
   "metadata": {},
   "outputs": [],
   "source": []
  }
 ],
 "metadata": {
  "kernelspec": {
   "display_name": "Python 3 (ipykernel)",
   "language": "python",
   "name": "python3"
  },
  "language_info": {
   "codemirror_mode": {
    "name": "ipython",
    "version": 3
   },
   "file_extension": ".py",
   "mimetype": "text/x-python",
   "name": "python",
   "nbconvert_exporter": "python",
   "pygments_lexer": "ipython3",
   "version": "3.10.0"
  }
 },
 "nbformat": 4,
 "nbformat_minor": 5
}
