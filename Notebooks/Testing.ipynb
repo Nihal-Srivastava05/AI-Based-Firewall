{
 "cells": [
  {
   "cell_type": "markdown",
   "id": "aa20d713",
   "metadata": {},
   "source": [
    "# Testing Models"
   ]
  },
  {
   "cell_type": "code",
   "execution_count": 1,
   "id": "0ff4dde8",
   "metadata": {},
   "outputs": [],
   "source": [
    "import pandas as pd\n",
    "import numpy as np\n",
    "import matplotlib.pyplot as plt\n",
    "import seaborn as sns"
   ]
  },
  {
   "cell_type": "code",
   "execution_count": 2,
   "id": "25abf189",
   "metadata": {},
   "outputs": [],
   "source": [
    "from re import compile\n",
    "from urllib.parse import urlparse\n",
    "from socket import gethostbyname\n",
    "from datetime import datetime, timezone\n",
    "import math"
   ]
  },
  {
   "cell_type": "code",
   "execution_count": 3,
   "id": "85a6102c",
   "metadata": {},
   "outputs": [],
   "source": [
    "class UrlFeaturizer(object):\n",
    "    def __init__(self, url):\n",
    "        self.url = url\n",
    "        self.domain = url.split('//')[-1].split('/')[0]\n",
    "        self.urlparse = urlparse(url)\n",
    "\n",
    "    def entropy(self):\n",
    "        string = self.url.lower().strip()\n",
    "        prob = [float(string.count(c)) / len(string) for c in dict.fromkeys(list(string))]\n",
    "        entropy = sum([(p * math.log(p) / math.log(2.0)) for p in prob])\n",
    "        return entropy\n",
    "\n",
    "    def ip(self):\n",
    "        string = self.url\n",
    "        flag = False\n",
    "        if (\".\" in string):\n",
    "            elements_array = string.strip().split(\".\")\n",
    "            if(len(elements_array) == 4):\n",
    "                for i in elements_array:\n",
    "                    if (i.isnumeric() and int(i)>=0 and int(i)<=255):\n",
    "                        flag=True\n",
    "                    else:\n",
    "                        flag=False\n",
    "                        break\n",
    "        if flag:\n",
    "            return 1 \n",
    "        else:\n",
    "            return 0\n",
    "\n",
    "    def numDigits(self):\n",
    "        digits = [i for i in self.url if i.isdigit()]\n",
    "        return len(digits)\n",
    "\n",
    "    def urlLength(self):\n",
    "        return len(self.url)\n",
    "\n",
    "    def numParameters(self):\n",
    "        params = self.url.split('&')\n",
    "        return len(params) - 1\n",
    "\n",
    "    def numFragments(self):\n",
    "        fragments = self.url.split('#')\n",
    "        return len(fragments) - 1\n",
    "\n",
    "    def numSubDomains(self):\n",
    "        subdomains = self.url.split('http')[-1].split('//')[-1].split('/')\n",
    "        return len(subdomains)-1\n",
    "\n",
    "    def domainExtension(self):\n",
    "        ext = self.url.split('.')[-1].split('/')[0]\n",
    "        return ext\n",
    "\n",
    "    def hasHttp(self):\n",
    "        return 'http:' in self.url\n",
    "\n",
    "    def hasHttps(self):\n",
    "        return 'https:' in self.url\n",
    "\n",
    "    def url_host_is_ip(self):\n",
    "        host = self.urlparse.netloc\n",
    "        pattern = compile(\"^\\d{1,3}\\.\\d{1,3}\\.\\d{1,3}\\.\\d{1,3}$\")\n",
    "        match = pattern.match(host)\n",
    "        return match is not None\n",
    "\n",
    "    def get_ip(self):\n",
    "        try:\n",
    "            ip = self.urlparse.netloc if self.url_host_is_ip() else gethostbyname(self.urlparse.netloc)\n",
    "            return ip\n",
    "        except:\n",
    "            return None\n",
    "\n",
    "    def url_path_length(self):\n",
    "        return len(self.urlparse.path)\n",
    "\n",
    "    def url_host_length(self):\n",
    "        return len(self.urlparse.netloc)\n",
    "\n",
    "    def url_has_port_in_string(self):\n",
    "        has_port = self.urlparse.netloc.split(':')\n",
    "        return len(has_port) > 1 and has_port[-1].isdigit()\n",
    "\n",
    "    def is_encoded(self):\n",
    "        return '%' in self.url.lower()\n",
    "\n",
    "    def num_encoded_char(self):\n",
    "        encs = [i for i in self.url if i == '%']\n",
    "        return len(encs)\n",
    "\n",
    "    def number_of_subdirectories(self):\n",
    "        d = self.urlparse.path.split('/')\n",
    "        return len(d)\n",
    "\n",
    "    def number_of_periods(self):\n",
    "        periods = [i for i in self.url if i == '.']\n",
    "        return len(periods)\n",
    "\n",
    "    def has_client_in_string(self):\n",
    "        return 'client' in self.url.lower()\n",
    "\n",
    "    def has_admin_in_string(self):\n",
    "        return 'admin' in self.url.lower()\n",
    "\n",
    "    def has_server_in_string(self):\n",
    "        return 'server' in self.url.lower()\n",
    "\n",
    "    def has_login_in_string(self):\n",
    "        return 'login' in self.url.lower()\n",
    "        \n",
    "    def get_tld(self):\n",
    "        #top-level domain\n",
    "        return self.urlparse.netloc.split('.')[-1].split(':')[0]\n",
    "\n",
    "    def count_arate(self):\n",
    "        arates = [i for i in self.url if i == '@']\n",
    "        return len(arates)\n",
    "\n",
    "    def count_asterisk(self):\n",
    "        asterisks = [i for i in self.url if i == '*']\n",
    "        return len(asterisks)\n",
    "\n",
    "    def count_questionmark(self):\n",
    "        questionmarks = [i for i in self.url if i == '?']\n",
    "        return len(questionmarks)\n",
    "\n",
    "    def count_plus(self):\n",
    "        plus = [i for i in self.url if i == '+']\n",
    "        return len(plus)\n",
    "\n",
    "    def count_exclamation(self):\n",
    "        exclamation = [i for i in self.url if i == '!']\n",
    "        return len(exclamation)\n",
    "\n",
    "    def count_hyphen(self):\n",
    "        hyphen = [i for i in self.url if i == '-']\n",
    "        return len(hyphen)\n",
    "\n",
    "    def count_equal(self):\n",
    "        equals = [i for i in self.url if i == '=']\n",
    "        return len(equals)\n",
    "\n",
    "    def count_tilted(self):\n",
    "        tilted = [i for i in self.url if i == '~']\n",
    "        return len(tilted)\n",
    "\n",
    "    def run(self):\n",
    "        data = {}\n",
    "#         data['url'] = self.url\n",
    "        data['entropy'] = self.entropy()\n",
    "        data['numDigits'] = self.numDigits()\n",
    "        data['urlLength'] = self.urlLength()\n",
    "        data['numParams'] = self.numParameters()\n",
    "        data['hasHttp'] = self.hasHttp()\n",
    "        data['hasHttps'] = self.hasHttps()\n",
    "#         data['ext'] = self.domainExtension()\n",
    "        data['num_%20'] = self.url.count(\"%20\")\n",
    "        data['num_@'] = self.url.count(\"@\")\n",
    "        data['has_ip'] = self.ip()\n",
    "        data['path_length'] = self.url_path_length()\n",
    "        data['host_length'] = self.url_host_length()\n",
    "        data['has_port'] = self.url_has_port_in_string()\n",
    "        data['is_encoded'] = self.is_encoded()\n",
    "        data['num_encoded_char'] = self.num_encoded_char()\n",
    "        data['number_of_subdirectories'] = self.number_of_subdirectories()\n",
    "        data['number_of_periods'] = self.number_of_periods()\n",
    "        data['has_client_in_string'] = self.has_client_in_string()\n",
    "        data['has_admin_in_string'] = self.has_admin_in_string()\n",
    "        data['has_server_in_string'] = self.has_server_in_string()\n",
    "        data['has_login_in_string'] = self.has_login_in_string()\n",
    "#         data['tld'] = self.get_tld()\n",
    "        data['count_arate'] = self.count_arate()\n",
    "        data['count_asterisk'] = self.count_asterisk()\n",
    "        data['count_questionmark'] = self.count_questionmark()\n",
    "        data['count_plus'] = self.count_plus()\n",
    "        data['count_exclamation'] = self.count_exclamation()\n",
    "        data['count_hyphen'] = self.count_hyphen()\n",
    "        data['count_equal'] = self.count_equal()\n",
    "        data['count_tilted'] = self.count_tilted()\n",
    "    \n",
    "        return data"
   ]
  },
  {
   "cell_type": "code",
   "execution_count": 4,
   "id": "c7541620",
   "metadata": {},
   "outputs": [],
   "source": [
    "from tensorflow.keras.utils import pad_sequences\n",
    "from keras.preprocessing.text import one_hot\n",
    "from tensorflow.keras.models import load_model"
   ]
  },
  {
   "cell_type": "code",
   "execution_count": 5,
   "id": "f14afd95",
   "metadata": {},
   "outputs": [],
   "source": [
    "def get_padded_url(url, VOCAB_LENGTH = 464223, length_long_sentence = 373):\n",
    "    one_hot_url = one_hot(url, VOCAB_LENGTH)\n",
    "    padded_url = pad_sequences([one_hot_url], length_long_sentence, padding='post')\n",
    "    return padded_url.reshape(1, length_long_sentence)"
   ]
  },
  {
   "cell_type": "code",
   "execution_count": 19,
   "id": "408f9dd4",
   "metadata": {},
   "outputs": [],
   "source": [
    "model = load_model(\"../Models/url_clsf_word_embed/\")"
   ]
  },
  {
   "cell_type": "code",
   "execution_count": 23,
   "id": "c3875cd9",
   "metadata": {},
   "outputs": [],
   "source": [
    "df_log = pd.read_csv(\"../Datasets/Log_wireshark.csv\")"
   ]
  },
  {
   "cell_type": "code",
   "execution_count": 24,
   "id": "44bfb14a",
   "metadata": {},
   "outputs": [
    {
     "data": {
      "text/html": [
       "<div>\n",
       "<style scoped>\n",
       "    .dataframe tbody tr th:only-of-type {\n",
       "        vertical-align: middle;\n",
       "    }\n",
       "\n",
       "    .dataframe tbody tr th {\n",
       "        vertical-align: top;\n",
       "    }\n",
       "\n",
       "    .dataframe thead th {\n",
       "        text-align: right;\n",
       "    }\n",
       "</style>\n",
       "<table border=\"1\" class=\"dataframe\">\n",
       "  <thead>\n",
       "    <tr style=\"text-align: right;\">\n",
       "      <th></th>\n",
       "      <th>No.</th>\n",
       "      <th>Time</th>\n",
       "      <th>Source</th>\n",
       "      <th>Destination</th>\n",
       "      <th>Protocol</th>\n",
       "      <th>Length</th>\n",
       "      <th>Info</th>\n",
       "    </tr>\n",
       "  </thead>\n",
       "  <tbody>\n",
       "    <tr>\n",
       "      <th>0</th>\n",
       "      <td>57</td>\n",
       "      <td>10.737953</td>\n",
       "      <td>DESKTOP-EB9QDOJ.local</td>\n",
       "      <td>4-c-0003.c-msedge.net</td>\n",
       "      <td>TCP</td>\n",
       "      <td>66</td>\n",
       "      <td>62927  &gt;  80 [SYN] Seq=0 Win=64240 Len=0 MSS=1...</td>\n",
       "    </tr>\n",
       "    <tr>\n",
       "      <th>1</th>\n",
       "      <td>307</td>\n",
       "      <td>15.810955</td>\n",
       "      <td>DESKTOP-EB9QDOJ.local</td>\n",
       "      <td>dns.google</td>\n",
       "      <td>TCP</td>\n",
       "      <td>66</td>\n",
       "      <td>62928  &gt;  53 [SYN] Seq=0 Win=64240 Len=0 MSS=1...</td>\n",
       "    </tr>\n",
       "    <tr>\n",
       "      <th>2</th>\n",
       "      <td>308</td>\n",
       "      <td>15.811716</td>\n",
       "      <td>DESKTOP-EB9QDOJ.local</td>\n",
       "      <td>dns.google</td>\n",
       "      <td>TCP</td>\n",
       "      <td>66</td>\n",
       "      <td>62929  &gt;  53 [SYN] Seq=0 Win=64240 Len=0 MSS=1...</td>\n",
       "    </tr>\n",
       "    <tr>\n",
       "      <th>3</th>\n",
       "      <td>309</td>\n",
       "      <td>15.813638</td>\n",
       "      <td>DESKTOP-EB9QDOJ.local</td>\n",
       "      <td>dns.google</td>\n",
       "      <td>TCP</td>\n",
       "      <td>66</td>\n",
       "      <td>62930  &gt;  53 [SYN] Seq=0 Win=64240 Len=0 MSS=1...</td>\n",
       "    </tr>\n",
       "    <tr>\n",
       "      <th>4</th>\n",
       "      <td>310</td>\n",
       "      <td>15.814338</td>\n",
       "      <td>DESKTOP-EB9QDOJ.local</td>\n",
       "      <td>dns.google</td>\n",
       "      <td>TCP</td>\n",
       "      <td>66</td>\n",
       "      <td>62931  &gt;  53 [SYN] Seq=0 Win=64240 Len=0 MSS=1...</td>\n",
       "    </tr>\n",
       "  </tbody>\n",
       "</table>\n",
       "</div>"
      ],
      "text/plain": [
       "   No.       Time                 Source            Destination Protocol  \\\n",
       "0   57  10.737953  DESKTOP-EB9QDOJ.local  4-c-0003.c-msedge.net      TCP   \n",
       "1  307  15.810955  DESKTOP-EB9QDOJ.local             dns.google      TCP   \n",
       "2  308  15.811716  DESKTOP-EB9QDOJ.local             dns.google      TCP   \n",
       "3  309  15.813638  DESKTOP-EB9QDOJ.local             dns.google      TCP   \n",
       "4  310  15.814338  DESKTOP-EB9QDOJ.local             dns.google      TCP   \n",
       "\n",
       "  Length                                               Info  \n",
       "0     66  62927  >  80 [SYN] Seq=0 Win=64240 Len=0 MSS=1...  \n",
       "1     66  62928  >  53 [SYN] Seq=0 Win=64240 Len=0 MSS=1...  \n",
       "2     66  62929  >  53 [SYN] Seq=0 Win=64240 Len=0 MSS=1...  \n",
       "3     66  62930  >  53 [SYN] Seq=0 Win=64240 Len=0 MSS=1...  \n",
       "4     66  62931  >  53 [SYN] Seq=0 Win=64240 Len=0 MSS=1...  "
      ]
     },
     "execution_count": 24,
     "metadata": {},
     "output_type": "execute_result"
    }
   ],
   "source": [
    "df_log.head()"
   ]
  },
  {
   "cell_type": "code",
   "execution_count": 25,
   "id": "c2640539",
   "metadata": {},
   "outputs": [
    {
     "data": {
      "text/plain": [
       "(255, 7)"
      ]
     },
     "execution_count": 25,
     "metadata": {},
     "output_type": "execute_result"
    }
   ],
   "source": [
    "df_log.shape"
   ]
  },
  {
   "cell_type": "code",
   "execution_count": 20,
   "id": "b13a2ba6",
   "metadata": {},
   "outputs": [],
   "source": [
    "labels =['benign','defacement', 'malware', 'phishing']"
   ]
  },
  {
   "cell_type": "code",
   "execution_count": 8,
   "id": "50e3cfb1",
   "metadata": {},
   "outputs": [],
   "source": [
    "df = pd.read_csv(\"../Datasets/malicious_phish.csv\")"
   ]
  },
  {
   "cell_type": "code",
   "execution_count": 9,
   "id": "df10ae8d",
   "metadata": {},
   "outputs": [
    {
     "data": {
      "text/html": [
       "<div>\n",
       "<style scoped>\n",
       "    .dataframe tbody tr th:only-of-type {\n",
       "        vertical-align: middle;\n",
       "    }\n",
       "\n",
       "    .dataframe tbody tr th {\n",
       "        vertical-align: top;\n",
       "    }\n",
       "\n",
       "    .dataframe thead th {\n",
       "        text-align: right;\n",
       "    }\n",
       "</style>\n",
       "<table border=\"1\" class=\"dataframe\">\n",
       "  <thead>\n",
       "    <tr style=\"text-align: right;\">\n",
       "      <th></th>\n",
       "      <th>url</th>\n",
       "      <th>type</th>\n",
       "    </tr>\n",
       "  </thead>\n",
       "  <tbody>\n",
       "    <tr>\n",
       "      <th>0</th>\n",
       "      <td>br-icloud.com.br</td>\n",
       "      <td>phishing</td>\n",
       "    </tr>\n",
       "    <tr>\n",
       "      <th>1</th>\n",
       "      <td>mp3raid.com/music/krizz_kaliko.html</td>\n",
       "      <td>benign</td>\n",
       "    </tr>\n",
       "    <tr>\n",
       "      <th>2</th>\n",
       "      <td>bopsecrets.org/rexroth/cr/1.htm</td>\n",
       "      <td>benign</td>\n",
       "    </tr>\n",
       "    <tr>\n",
       "      <th>3</th>\n",
       "      <td>http://www.garage-pirenne.be/index.php?option=...</td>\n",
       "      <td>defacement</td>\n",
       "    </tr>\n",
       "    <tr>\n",
       "      <th>4</th>\n",
       "      <td>http://adventure-nicaragua.net/index.php?optio...</td>\n",
       "      <td>defacement</td>\n",
       "    </tr>\n",
       "  </tbody>\n",
       "</table>\n",
       "</div>"
      ],
      "text/plain": [
       "                                                 url        type\n",
       "0                                   br-icloud.com.br    phishing\n",
       "1                mp3raid.com/music/krizz_kaliko.html      benign\n",
       "2                    bopsecrets.org/rexroth/cr/1.htm      benign\n",
       "3  http://www.garage-pirenne.be/index.php?option=...  defacement\n",
       "4  http://adventure-nicaragua.net/index.php?optio...  defacement"
      ]
     },
     "execution_count": 9,
     "metadata": {},
     "output_type": "execute_result"
    }
   ],
   "source": [
    "df.head()"
   ]
  },
  {
   "cell_type": "code",
   "execution_count": 10,
   "id": "4e3a7d27",
   "metadata": {},
   "outputs": [],
   "source": [
    "from tqdm import tqdm"
   ]
  },
  {
   "cell_type": "code",
   "execution_count": 24,
   "id": "05edc5f4",
   "metadata": {},
   "outputs": [
    {
     "name": "stderr",
     "output_type": "stream",
     "text": [
      "1000it [00:53, 18.65it/s]\n"
     ]
    }
   ],
   "source": [
    "preds = []\n",
    "for row in tqdm(df[1000:2000].iterrows()):\n",
    "    url = row[1]['url']\n",
    "#     feats = np.array(list(UrlFeaturizer(url).run().values())).reshape(1, 28)\n",
    "    pad_url = get_padded_url(url)\n",
    "    out = model.predict(x=pad_url, verbose=0)\n",
    "    prediction = labels[np.argmax(out)]\n",
    "    if(prediction != 'benign'):\n",
    "        preds.append([url, prediction])"
   ]
  },
  {
   "cell_type": "code",
   "execution_count": 25,
   "id": "98f21a03",
   "metadata": {},
   "outputs": [
    {
     "data": {
      "text/plain": [
       "[['peregrine.igg.biz', 'phishing'],\n",
       " ['http://www.westwoodchurch.co.uk/our-services/sunday-celebration/celebration-talks/233-17-06-2012-ruth-ruth-1-simon-lloyd',\n",
       "  'phishing'],\n",
       " ['http://torcache.net/torrent/9154FAAD712957FD02C9507EB9A583DF724A7683.torrent?title=[kickass.to]grand.theft.auto.v.reloaded',\n",
       "  'phishing'],\n",
       " ['gojukarate.biz', 'phishing'],\n",
       " ['canadagazette.gc.ca/archives/p1/2002/2002-01-19/html/parliament-parlement-eng.html',\n",
       "  'phishing'],\n",
       " ['smartlanka.net/ACT/', 'phishing'],\n",
       " ['waatp.nl/people/dimitri-taes/', 'phishing'],\n",
       " ['krekkahotrikoa.altervista.org', 'phishing']]"
      ]
     },
     "execution_count": 25,
     "metadata": {},
     "output_type": "execute_result"
    }
   ],
   "source": [
    "preds"
   ]
  },
  {
   "cell_type": "code",
   "execution_count": null,
   "id": "3fd785cb",
   "metadata": {},
   "outputs": [],
   "source": []
  }
 ],
 "metadata": {
  "kernelspec": {
   "display_name": "Python 3 (ipykernel)",
   "language": "python",
   "name": "python3"
  },
  "language_info": {
   "codemirror_mode": {
    "name": "ipython",
    "version": 3
   },
   "file_extension": ".py",
   "mimetype": "text/x-python",
   "name": "python",
   "nbconvert_exporter": "python",
   "pygments_lexer": "ipython3",
   "version": "3.10.0"
  }
 },
 "nbformat": 4,
 "nbformat_minor": 5
}
